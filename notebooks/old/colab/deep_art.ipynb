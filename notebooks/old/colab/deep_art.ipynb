{
  "nbformat": 4,
  "nbformat_minor": 0,
  "metadata": {
    "colab": {
      "provenance": []
    },
    "kernelspec": {
      "name": "python3",
      "display_name": "Python 3"
    },
    "language_info": {
      "name": "python"
    }
  },
  "cells": [
    {
      "cell_type": "markdown",
      "metadata": {
        "id": "UXBaRfS4RO6K"
      },
      "source": [
        "# Deep ART\n",
        "\n",
        "This file is an implementation of Sasha Petrenko's Deep ART neural network architecture.\n",
        "\n",
        "## Summary\n",
        "\n",
        "- Document: Deep ART\n",
        "- Author: Sasha Petrenko\n",
        "- Date 12/19/2023\n",
        "\n",
        "## Description\n",
        "\n",
        "This document outlines a series of experiments that aim to implement ART-like dynamics in a multilayer network.\n",
        "This is done one step at a time, beginning with a supervised instar network to an unsupervised multilayer network.\n"
      ]
    },
    {
      "cell_type": "markdown",
      "source": [
        "# Setup"
      ],
      "metadata": {
        "id": "2STsToacDpfa"
      }
    },
    {
      "cell_type": "markdown",
      "source": [
        "## Imports and Environment\n",
        "\n",
        "First, we must load the necessary Python libraries.\n",
        "While we're at it, we will setup the environment, such as pointing to our data directory."
      ],
      "metadata": {
        "id": "h2xyBBGC95lU"
      }
    },
    {
      "cell_type": "code",
      "metadata": {
        "colab": {
          "base_uri": "https://localhost:8080/"
        },
        "id": "cUPDX-Y5p-GM",
        "outputId": "ee3f35ee-9ad4-4dc2-8726-746b41b67b04"
      },
      "source": [
        "# Include tensorflow namespaces\n",
        "import tensorflow as tf\n",
        "import tensorflow_datasets as tfds\n",
        "\n",
        "# Import some tf keras names directly for conciseness\n",
        "from tensorflow.python.keras.layers import Input, Dense, Flatten\n",
        "from tensorflow.python.keras.models import Model\n",
        "# from tensorflow.python.keras.utils import plot_model\n",
        "from tensorflow.keras.utils import plot_model\n",
        "\n",
        "import tensorflow.keras as keras\n",
        "\n",
        "# Progress bars for the notebook environment\n",
        "from tqdm.notebook import tqdm, trange\n",
        "\n",
        "# Numerical computing, matrices, etc.\n",
        "import numpy as np\n",
        "\n",
        "# Plotting utilitices\n",
        "from matplotlib import pyplot as plt\n",
        "\n",
        "# Inline plotting for notebooks\n",
        "%matplotlib inline\n",
        "\n",
        "# Standardized path utilities\n",
        "from pathlib import Path\n",
        "\n",
        "# Check the tensorflow version\n",
        "print(tf.__version__)"
      ],
      "execution_count": null,
      "outputs": [
        {
          "output_type": "stream",
          "name": "stdout",
          "text": [
            "2.15.0\n"
          ]
        }
      ]
    },
    {
      "cell_type": "markdown",
      "source": [
        "### Configuration\n",
        "\n",
        "Now we will setup the configuration of this particular notebook, such as file and plotting settings.\n",
        "\n",
        "> **_NOTE:_** The `topdir` variable points to where you want the results saved. It is currently pointing to where the personal Google Drive gets mounted (if you click on the folder icon on the left and click the \"mount drive\" button). Change the path in `topdir` with the syntax used below (comma-separated directories) to where you want it to go."
      ],
      "metadata": {
        "id": "kzH_cLBJds7z"
      }
    },
    {
      "cell_type": "code",
      "source": [
        "# Set the top data directory\n",
        "# topdir = Path(\"drive\", \"MyDrive\", \"colab\", \"SysE5211\")\n",
        "# NOTE: comment the above and uncomment below for saving \"locally\" in the instance, which gets periodically deleted.\n",
        "# topdir = Path(\"project\")\n",
        "topdir = Path(\"project\")\n",
        "\n",
        "# Create the results directories\n",
        "resultsdir = topdir.joinpath(\"results\")\n",
        "resultsdir.mkdir(parents=True, exist_ok=True)\n",
        "\n",
        "# Set the random seed for reproducibility\n",
        "tf.random.set_seed(1234)\n",
        "\n",
        "# Set the plotting dots-per-inch\n",
        "dpi = 150"
      ],
      "metadata": {
        "id": "FyJ3BqYldr_n"
      },
      "execution_count": null,
      "outputs": []
    },
    {
      "cell_type": "markdown",
      "metadata": {
        "id": "FqoA-abiRYEc"
      },
      "source": [
        "## Data Setup\n",
        "\n",
        "Next, we will load and normalize the MNIST handwritten digit data."
      ]
    },
    {
      "cell_type": "code",
      "metadata": {
        "id": "bGMY8vzfs0Wc"
      },
      "source": [
        "# Point to the image dimension\n",
        "dim = 28\n",
        "\n",
        "# Use the tensorflow data utilities library to load the MNIST handwritten digit dataset\n",
        "(ds_train, ds_test), ds_info = tfds.load(\n",
        "    'mnist',\n",
        "    split=['train', 'test'],\n",
        "    shuffle_files=True,\n",
        "    as_supervised=True,\n",
        "    with_info=True,\n",
        ")\n",
        "\n",
        "# Normalize images from a `uint8` in [0, 255] to `float32` in [0, 1]\n",
        "def normalize_img(image, label):\n",
        "    return tf.cast(tf.reshape(image,[dim**2]), tf.float32) / 255., label\n",
        "\n",
        "# Apply the normalization to the full dataset\n",
        "ds_train = ds_train.map(\n",
        "    normalize_img, num_parallel_calls=tf.data.AUTOTUNE)\n",
        "# Cache the dataset in RAM for fast loading\n",
        "ds_train = ds_train.cache()\n",
        "# Stuffle the data\n",
        "ds_train = ds_train.shuffle(ds_info.splits['train'].num_examples)\n",
        "# Group the data in batches\n",
        "ds_train = ds_train.batch(128)\n",
        "# Perform some more tensorflow dataset magic that apparently speeds things up\n",
        "ds_train = ds_train.prefetch(tf.data.AUTOTUNE)\n",
        "\n",
        "# Do the same as above on the test dataset\n",
        "ds_test = ds_test.map(\n",
        "    normalize_img, num_parallel_calls=tf.data.AUTOTUNE)\n",
        "ds_test = ds_test.cache()\n",
        "ds_test = ds_test.batch(128)\n",
        "ds_test = ds_test.prefetch(tf.data.AUTOTUNE)"
      ],
      "execution_count": null,
      "outputs": []
    },
    {
      "cell_type": "code",
      "source": [
        "import numpy as np\n",
        "from tensorflow import keras\n",
        "from keras import layers\n",
        "\n",
        "keras.backend.clear_session()\n",
        "N_HIDDEN = 10\n",
        "N_COLUMNS = 3\n",
        "\n",
        "class M:\n",
        "    def __init__(self):\n",
        "        self.columns = []\n",
        "        self.inputs = []\n",
        "        self.outputs = []\n",
        "\n",
        "        # Input\n",
        "        self.append_cs(784 + N_HIDDEN * 3)\n",
        "        # T\n",
        "        self.append_cs(N_HIDDEN * 4)\n",
        "        # Hidden\n",
        "        for ix in range(N_COLUMNS):\n",
        "            self.append_cs(N_HIDDEN * 4)\n",
        "\n",
        "        for ix in range(N_COLUMNS):\n",
        "            print(self.columns[ix].summary())\n",
        "\n",
        "        return\n",
        "\n",
        "    # previous, self, next, T\n",
        "    def get_column(self, input_shape: int):\n",
        "        inputs = keras.Input(shape=(input_shape,))\n",
        "        outputs = keras.layers.Dense(N_HIDDEN)(inputs)\n",
        "        return keras.Model(inputs, outputs)\n",
        "\n",
        "    def append_cs(self, local_dim):\n",
        "        self.columns.append(self.get_column(local_dim))\n",
        "        self.inputs.append(np.zeros(local_dim))\n",
        "        self.outputs.append(np.zeros(local_dim))\n",
        "        return\n",
        "\n",
        "    def forward(self, input):\n",
        "        for ix in range(len(self.columns)):\n",
        "            # Input\n",
        "            if ix == 0:\n",
        "                # local_input = np.concatenate(input,)\n",
        "                # s[ix][0:len(input)] = input\n",
        "                self.inputs[ix][0:len(input)] = input\n",
        "                self.outputs[ix] = self.columns[ix](self.inputs[ix])\n",
        "            # T\n",
        "            elif ix == 1:\n",
        "\n",
        "                pass\n",
        "        return\n",
        "\n",
        "# def get_model():\n",
        "#     columns = []\n",
        "#     states = []\n",
        "#     # Input\n",
        "#     append_cs(columns, states, 784 + N_HIDDEN * 3)\n",
        "#     # T\n",
        "#     append_cs(columns, states, N_HIDDEN * 4)\n",
        "#     # Hidden\n",
        "#     for ix in range(N_COLUMNS):\n",
        "#         # columns.append(get_column(N_HIDDEN * 4))\n",
        "#         append_cs(columns, states, N_HIDDEN * 4)\n",
        "\n",
        "#     for ix in range(N_COLUMNS):\n",
        "#         print(columns[ix].summary())\n",
        "\n",
        "#     return columns\n",
        "\n",
        "# def forward(m: list, s: list, input):\n",
        "#     # states = []\n",
        "#     for ix in range(len(m)):\n",
        "#         # Input\n",
        "#         if ix == 0:\n",
        "#             # local_input = np.concatenate(input,)\n",
        "#             # s[ix][0:len(input)] = input\n",
        "#             s[ix] = m[ix]()\n",
        "#         # T\n",
        "#         elif ix == 1:\n",
        "\n",
        "#     return\n",
        "\n",
        "# m = get_model()\n",
        "m = M()\n",
        "# m.summary()"
      ],
      "metadata": {
        "colab": {
          "base_uri": "https://localhost:8080/"
        },
        "id": "hsypFFaOwwtP",
        "outputId": "0aa1d7da-0a1b-480b-e528-8ef1281f9ae4"
      },
      "execution_count": null,
      "outputs": [
        {
          "output_type": "stream",
          "name": "stdout",
          "text": [
            "Model: \"model\"\n",
            "_________________________________________________________________\n",
            " Layer (type)                Output Shape              Param #   \n",
            "=================================================================\n",
            " input_1 (InputLayer)        [(None, 814)]             0         \n",
            "                                                                 \n",
            " dense (Dense)               (None, 10)                8150      \n",
            "                                                                 \n",
            "=================================================================\n",
            "Total params: 8150 (31.84 KB)\n",
            "Trainable params: 8150 (31.84 KB)\n",
            "Non-trainable params: 0 (0.00 Byte)\n",
            "_________________________________________________________________\n",
            "None\n",
            "Model: \"model_1\"\n",
            "_________________________________________________________________\n",
            " Layer (type)                Output Shape              Param #   \n",
            "=================================================================\n",
            " input_2 (InputLayer)        [(None, 40)]              0         \n",
            "                                                                 \n",
            " dense_1 (Dense)             (None, 10)                410       \n",
            "                                                                 \n",
            "=================================================================\n",
            "Total params: 410 (1.60 KB)\n",
            "Trainable params: 410 (1.60 KB)\n",
            "Non-trainable params: 0 (0.00 Byte)\n",
            "_________________________________________________________________\n",
            "None\n",
            "Model: \"model_2\"\n",
            "_________________________________________________________________\n",
            " Layer (type)                Output Shape              Param #   \n",
            "=================================================================\n",
            " input_3 (InputLayer)        [(None, 40)]              0         \n",
            "                                                                 \n",
            " dense_2 (Dense)             (None, 10)                410       \n",
            "                                                                 \n",
            "=================================================================\n",
            "Total params: 410 (1.60 KB)\n",
            "Trainable params: 410 (1.60 KB)\n",
            "Non-trainable params: 0 (0.00 Byte)\n",
            "_________________________________________________________________\n",
            "None\n"
          ]
        }
      ]
    },
    {
      "cell_type": "code",
      "source": [
        "a = np.zeros(10)\n",
        "a\n",
        "b = np.ones(5)\n",
        "\n",
        "a[0:5] = b\n",
        "a"
      ],
      "metadata": {
        "colab": {
          "base_uri": "https://localhost:8080/"
        },
        "id": "209G3PF0GIYk",
        "outputId": "b4401859-bb62-4507-eba7-4d132d7b8f17"
      },
      "execution_count": null,
      "outputs": [
        {
          "output_type": "execute_result",
          "data": {
            "text/plain": [
              "array([1., 1., 1., 1., 1., 0., 0., 0., 0., 0.])"
            ]
          },
          "metadata": {},
          "execution_count": 30
        }
      ]
    },
    {
      "cell_type": "code",
      "source": [
        "# keras.utils.plot_model(\n",
        "#     m,\n",
        "#     \"asdf.png\",\n",
        "#     show_shapes=True,\n",
        "# )"
      ],
      "metadata": {
        "colab": {
          "base_uri": "https://localhost:8080/",
          "height": 201
        },
        "id": "QmgX8hVjj9B5",
        "outputId": "51fe06fa-f799-42ca-88ea-bf8b06037368"
      },
      "execution_count": null,
      "outputs": [
        {
          "output_type": "execute_result",
          "data": {
            "image/png": "[encoded data removed]",
            "text/plain": [
              "<IPython.core.display.Image object>"
            ]
          },
          "metadata": {},
          "execution_count": 6
        }
      ]
    },
    {
      "cell_type": "code",
      "source": [
        "# class Hebbian(Layer):\n",
        "class Hebbian(tf.keras.layers.Layer):\n",
        "\n",
        "    def __init__(self, output_dim, lmbda=1.0, eta=0.0005, connectivity='random', connectivity_prob=0.25, **kwargs):\n",
        "        '''\n",
        "        Constructor for the Hebbian learning layer.\n",
        "\n",
        "        args:\n",
        "            output_dim - The shape of the output / activations computed by the layer.\n",
        "            lambda - A floating-point valued parameter governing the strength of the Hebbian learning activation.\n",
        "            eta - A floating-point valued parameter governing the Hebbian learning rate.\n",
        "            connectivity - A string which determines the way in which the neurons in this layer are connected to\n",
        "                the neurons in the previous layer.\n",
        "        '''\n",
        "        self.output_dim = output_dim\n",
        "        self.lmbda = lmbda\n",
        "        self.eta = eta\n",
        "        self.connectivity = connectivity\n",
        "        self.connectivity_prob = connectivity_prob\n",
        "\n",
        "        super(Hebbian, self).__init__(**kwargs)\n",
        "\n",
        "    def random_conn_init(self, shape, dtype=None):\n",
        "        A = np.random.normal(0, 1, shape)\n",
        "        A[self.B] = 0\n",
        "        return tf.constant(A, dtype=tf.float32)\n",
        "\n",
        "    def zero_init(self, shape, dtype=None):\n",
        "        return np.zeros(shape)\n",
        "\n",
        "\n",
        "    def build(self, input_shape):\n",
        "        # create weight variable for this layer according to user-specified initialization\n",
        "        if self.connectivity == 'random':\n",
        "            self.B = np.random.random(input_shape[0]) < self.connectivity_prob\n",
        "        elif self.connectivity == 'zero':\n",
        "            self.B = np.zeros(self.output_dim)\n",
        "\n",
        "        if self.connectivity == 'all':\n",
        "            self.kernel = self.add_weight(name='kernel', shape=(np.prod(input_shape[1:]), \\\n",
        "                        np.prod(self.output_dim)), initializer='uniform', trainable=False)\n",
        "        elif self.connectivity == 'random':\n",
        "            self.kernel = self.add_weight(name='kernel', shape=(np.prod(input_shape[1:]), \\\n",
        "                        np.prod(self.output_dim)), initializer=self.random_conn_init, trainable=False)\n",
        "        elif self.connectivity == 'zero':\n",
        "            self.kernel = self.add_weight(name='kernel', shape=(np.prod(input_shape[1:]), \\\n",
        "                        np.prod(self.output_dim)), initializer=self.zero_init, trainable=False)\n",
        "        else:\n",
        "            raise NotImplementedError\n",
        "\n",
        "\n",
        "        # call superclass \"build\" function\n",
        "        super(Hebbian, self).build(input_shape)\n",
        "\n",
        "    def call(self, x):  # x is the input to the network\n",
        "        x_shape = tf.shape(x)\n",
        "        batch_size = tf.shape(x)[0]\n",
        "\n",
        "        # reshape to (batch_size, product of other dimensions) shape\n",
        "        x = tf.reshape(x, (tf.reduce_prod(x_shape[1:]), batch_size))\n",
        "\n",
        "        # compute activations using Hebbian-like update rule\n",
        "        activations = x + self.lmbda * tf.matmul(self.kernel, x)\n",
        "\n",
        "        # compute outer product of activations matrix with itself\n",
        "        outer_product = tf.matmul(tf.expand_dims(x, 1), tf.expand_dims(x, 0))\n",
        "\n",
        "        # update the weight matrix of this layer\n",
        "        self.kernel = self.kernel + tf.multiply(self.eta, tf.reduce_mean(outer_product, axis=2))\n",
        "        self.kernel = tf.multiply(self.kernel, self.B)\n",
        "        return K.reshape(activations, x_shape)\n",
        "\n",
        "    def compute_output_shape(self, input_shape):\n",
        "        return (input_shape[0], self.output_dim)\n"
      ],
      "metadata": {
        "id": "oD8sY3WREn9Q"
      },
      "execution_count": null,
      "outputs": []
    },
    {
      "cell_type": "markdown",
      "metadata": {
        "id": "D3sM1X8GOsV7"
      },
      "source": [
        "## Definitions\n",
        "\n",
        "Now we will create the various models that we will use in these experiments.\n",
        "First, we will setup some constants that all models share.\n",
        "For example, we know the dimensions of the images and the true number of categories.\n",
        "Furthermore, we will enumerate the names of the head nodes for the supervised cases."
      ]
    },
    {
      "cell_type": "code",
      "metadata": {
        "id": "1wG6d0v_OwWc"
      },
      "source": [
        "# Global constants\n",
        "dim = 28            # Image dimensions\n",
        "n_categories = 10   # Total number of classes in the MNIST handwritten digit dataset\n",
        "\n",
        "# List of head node names\n",
        "layer_names = ['B'+str(i) for i in range(n_categories)]"
      ],
      "execution_count": null,
      "outputs": []
    },
    {
      "cell_type": "markdown",
      "metadata": {
        "id": "MeIYPQihO9Ho"
      },
      "source": [
        "Now we will setup a variety of methods that are necessary for our experiments, such as functions to activate and deactivate learning in the head layers."
      ]
    },
    {
      "cell_type": "code",
      "metadata": {
        "id": "FXYG82IAtVp6"
      },
      "source": [
        "# Activate nodes function\n",
        "def activate_nodes(model):\n",
        "    # Make the head nodes trainable again\n",
        "    for layer in model.layers:\n",
        "        if layer.name in layer_names:\n",
        "            layer.trainable = True\n",
        "\n",
        "# Make only winner activated\n",
        "def activate_one_node(model, index):\n",
        "    winner_name = 'B'+str(int(index))\n",
        "    for layer in model.layers:\n",
        "        if (layer.name in layer_names) and (layer.name != winner_name):\n",
        "            layer.trainable = False\n",
        "\n",
        "# Normalize weights for visualization\n",
        "def get_normalized_weights(weights):\n",
        "    f_min, f_max = weights.min(), weights.max()\n",
        "    new_weights = (weights - f_min) / (f_max - f_min)\n",
        "    return new_weights\n",
        "\n",
        "# Make the weights square for visualization\n",
        "def get_square_weights(model, index):\n",
        "    # Get the weights\n",
        "    weights, biases = model.layers[index+1].get_weights()\n",
        "    # Normalize\n",
        "    weights = get_normalized_weights(weights)\n",
        "    # Reshape and return\n",
        "    return np.reshape(weights, (dim, dim))\n",
        "\n",
        "# Visualize one weight from the model\n",
        "def visualize_weights(model, index):\n",
        "    # Get the square weights\n",
        "    f = get_square_weights(model, index)\n",
        "    # Plot in grayscale\n",
        "    fig, ax = plt.subplots(dpi=dpi)\n",
        "    # ax = plt.plot()\n",
        "    ax.plot()\n",
        "    plt.imshow(f, cmap='gray')\n",
        "    return fig, ax\n",
        "\n",
        "# Show all weights in a 3x3\n",
        "def visualize_all_weights(model):\n",
        "    # fig plt.figure()\n",
        "    fig, ax = plt.subplots(dpi=dpi)\n",
        "    n_ax, n_plot = 3, 9\n",
        "    for ix in range(n_plot):\n",
        "        plt.subplot(n_ax, n_ax, ix+1)\n",
        "        f = get_square_weights(model, ix)\n",
        "        plt.imshow(f, cmap='gray')\n",
        "    return fig, ax\n",
        "\n",
        "# Repor the trainable layers\n",
        "def check_trainable(model):\n",
        "    for layer in model.layers:\n",
        "        print(layer.name + \": \" + str(layer.trainable))\n",
        "\n",
        "# Create a single layer instar network\n",
        "def get_shallow_instar():\n",
        "    # Model 1: Single layer\n",
        "    A1 = Input(shape=(dim**2), name='A1')\n",
        "    head_nodes = [Dense(1, activation='sigmoid', name='B'+str(i))(A1) for i in range(n_categories)]\n",
        "    merged = Model(inputs=[A1],outputs=head_nodes)\n",
        "    merged.compile(optimizer=\"Adam\", metrics=[\"mae\"])\n",
        "    return merged\n",
        "\n",
        "# Create a two-layer instar network\n",
        "def get_deep_instar():\n",
        "    # Model 2: Two-Layer\n",
        "    A1 = Input(shape=(dim**2), name='A1')\n",
        "    A2 = Dense(128, activation='sigmoid', name='A2')(A1)\n",
        "    head_nodes = [Dense(1, activation='sigmoid', name='B'+str(i))(A2) for i in range(n_categories)]\n",
        "    merged_deep = Model(inputs=[A1],outputs=head_nodes)\n",
        "    merged_deep.compile(optimizer=\"Adam\", loss=\"mse\", metrics=[\"mae\"])\n",
        "    return merged_deep\n",
        "\n",
        "# TODO: these don't show\n",
        "# Show a model diagram\n",
        "def show_model(model):\n",
        "    plot_model(model, to_file='demo.png',show_shapes=True)\n",
        "\n",
        "# Show the model in text form\n",
        "def show_model_text(model):\n",
        "    model.summary()"
      ],
      "execution_count": null,
      "outputs": []
    },
    {
      "cell_type": "markdown",
      "metadata": {
        "id": "A4KPWQAEPCxQ"
      },
      "source": [
        "## Model Setup\n",
        "\n",
        "Now, we can create and inspect some models.\n",
        "To create tensorflow models that can add nodes on the  fly, we are using the keras functional API, which is why we enumerated the head node names.\n",
        "This results in two benefits:\n",
        "\n",
        "1. We can have a single network where we treat each head node as a layer that we can turn learning on and off in with `layer.trainable`.\n",
        "2. We can create entirely different networks that share layer weights in memory (i.e., two networks could have different head nodes yet share the same input/hidden weights)."
      ]
    },
    {
      "cell_type": "code",
      "metadata": {
        "colab": {
          "base_uri": "https://localhost:8080/"
        },
        "id": "tcOBYQiuP9dk",
        "outputId": "bac28dc7-81ad-4d30-8e81-6309a77a1e30"
      },
      "source": [
        "# Create a shallow instar network\n",
        "merged = get_shallow_instar()\n",
        "\n",
        "# Print a summary of the network\n",
        "merged.summary()"
      ],
      "execution_count": null,
      "outputs": [
        {
          "output_type": "stream",
          "name": "stdout",
          "text": [
            "Model: \"model\"\n",
            "__________________________________________________________________________________________________\n",
            " Layer (type)                Output Shape                 Param #   Connected to                  \n",
            "==================================================================================================\n",
            " A1 (InputLayer)             [(None, 784)]                0         []                            \n",
            "                                                                                                  \n",
            " B0 (Dense)                  (None, 1)                    785       ['A1[0][0]']                  \n",
            "                                                                                                  \n",
            " B1 (Dense)                  (None, 1)                    785       ['A1[0][0]']                  \n",
            "                                                                                                  \n",
            " B2 (Dense)                  (None, 1)                    785       ['A1[0][0]']                  \n",
            "                                                                                                  \n",
            " B3 (Dense)                  (None, 1)                    785       ['A1[0][0]']                  \n",
            "                                                                                                  \n",
            " B4 (Dense)                  (None, 1)                    785       ['A1[0][0]']                  \n",
            "                                                                                                  \n",
            " B5 (Dense)                  (None, 1)                    785       ['A1[0][0]']                  \n",
            "                                                                                                  \n",
            " B6 (Dense)                  (None, 1)                    785       ['A1[0][0]']                  \n",
            "                                                                                                  \n",
            " B7 (Dense)                  (None, 1)                    785       ['A1[0][0]']                  \n",
            "                                                                                                  \n",
            " B8 (Dense)                  (None, 1)                    785       ['A1[0][0]']                  \n",
            "                                                                                                  \n",
            " B9 (Dense)                  (None, 1)                    785       ['A1[0][0]']                  \n",
            "                                                                                                  \n",
            "==================================================================================================\n",
            "Total params: 7850 (30.66 KB)\n",
            "Trainable params: 7850 (30.66 KB)\n",
            "Non-trainable params: 0 (0.00 Byte)\n",
            "__________________________________________________________________________________________________\n"
          ]
        }
      ]
    },
    {
      "cell_type": "markdown",
      "source": [
        "While we're here, we can visualize the same information in the form of a graph.\n",
        "This image will show that the network is still a directed acyclic graph with an output layer expanded into separate single-node layers."
      ],
      "metadata": {
        "id": "GpacT76dIMJI"
      }
    },
    {
      "cell_type": "code",
      "source": [
        "# Plot the model\n",
        "model_file = resultsdir.joinpath(\"shallow_instar.png\")\n",
        "plot_model(merged, to_file=model_file,show_shapes=True)"
      ],
      "metadata": {
        "colab": {
          "base_uri": "https://localhost:8080/",
          "height": 119
        },
        "id": "tRrdL5ahEqmz",
        "outputId": "3ea427a7-2506-4bd7-e019-c9424717d5cd"
      },
      "execution_count": null,
      "outputs": [
        {
          "output_type": "execute_result",
          "data": {
            "image/png": "[encoded data removed]",
            "text/plain": [
              "<IPython.core.display.Image object>"
            ]
          },
          "metadata": {},
          "execution_count": 7
        }
      ]
    },
    {
      "cell_type": "markdown",
      "source": [
        "# Experiments\n",
        "\n",
        "Now that we have our data, function definitions, and models, we can explore how the models behave."
      ],
      "metadata": {
        "id": "xqfKgG4LEEaH"
      }
    },
    {
      "cell_type": "markdown",
      "metadata": {
        "id": "WKlvm6h_Rxtq"
      },
      "source": [
        "## Test an input into the model\n",
        "\n",
        "First, we will verify the basic functionality of the network.\n",
        "With a random sample, we will see the structure of the output of the network, the winning nodes, and how the network is altered when we deactivate other nodes."
      ]
    },
    {
      "cell_type": "code",
      "metadata": {
        "colab": {
          "base_uri": "https://localhost:8080/"
        },
        "id": "fg92BfzOtdeV",
        "outputId": "b61eb582-f786-4aeb-e95f-3119974c4cfc"
      },
      "source": [
        "# Complement-coded\n",
        "# sample = tf.ones((1, 2*dim**2))\n",
        "# Un-complement-coded (one sample, expanded image as a 1-D vector)\n",
        "sample = tf.ones((1, dim**2))\n",
        "y = merged(sample)\n",
        "print(\"y is:\" + str(y))\n",
        "print(\"max y is:\" + str(max(y)))\n",
        "\n",
        "# Winning index\n",
        "index = tf.math.argmax(y)[0][0]\n",
        "print(\"Index is: \" + str(index))\n",
        "print(\"Output at index is: \" + str(y[index]))\n",
        "\n",
        "# Winning node name\n",
        "layer_name = 'B'+str(int(index))\n",
        "print(\"Winning node is: \" + layer_name)\n",
        "# Set winner to trainable\n",
        "activate_one_node(merged, index)\n",
        "print(\"layer.trainable for each layer:\")\n",
        "check_trainable(merged)\n",
        "\n",
        "# Show the difference of this prediction from full activation\n",
        "print(\"Loss is:\" + str(1-y[index]))"
      ],
      "execution_count": null,
      "outputs": [
        {
          "output_type": "stream",
          "name": "stdout",
          "text": [
            "y is:[<tf.Tensor: shape=(1, 1), dtype=float32, numpy=array([[0.70099807]], dtype=float32)>, <tf.Tensor: shape=(1, 1), dtype=float32, numpy=array([[0.32632813]], dtype=float32)>, <tf.Tensor: shape=(1, 1), dtype=float32, numpy=array([[0.6088272]], dtype=float32)>, <tf.Tensor: shape=(1, 1), dtype=float32, numpy=array([[0.252879]], dtype=float32)>, <tf.Tensor: shape=(1, 1), dtype=float32, numpy=array([[0.75195134]], dtype=float32)>, <tf.Tensor: shape=(1, 1), dtype=float32, numpy=array([[0.72623855]], dtype=float32)>, <tf.Tensor: shape=(1, 1), dtype=float32, numpy=array([[0.97881263]], dtype=float32)>, <tf.Tensor: shape=(1, 1), dtype=float32, numpy=array([[0.74883074]], dtype=float32)>, <tf.Tensor: shape=(1, 1), dtype=float32, numpy=array([[0.15774786]], dtype=float32)>, <tf.Tensor: shape=(1, 1), dtype=float32, numpy=array([[0.6456106]], dtype=float32)>]\n",
            "max y is:tf.Tensor([[0.97881263]], shape=(1, 1), dtype=float32)\n",
            "Index is: tf.Tensor(6, shape=(), dtype=int64)\n",
            "Output at index is: tf.Tensor([[0.97881263]], shape=(1, 1), dtype=float32)\n",
            "Winning node is: B6\n",
            "layer.trainable for each layer:\n",
            "A1: True\n",
            "B0: False\n",
            "B1: False\n",
            "B2: False\n",
            "B3: False\n",
            "B4: False\n",
            "B5: False\n",
            "B6: True\n",
            "B7: False\n",
            "B8: False\n",
            "B9: False\n",
            "Loss is:tf.Tensor([[0.02118737]], shape=(1, 1), dtype=float32)\n"
          ]
        }
      ]
    },
    {
      "cell_type": "markdown",
      "metadata": {
        "id": "EjL62UGaR2OJ"
      },
      "source": [
        "## Test the GradientTape\n",
        "\n",
        "Next, we will test the functionality of the tensorflow GradientTape object.\n",
        "This is because we will use it later in our custom training loop."
      ]
    },
    {
      "cell_type": "code",
      "metadata": {
        "colab": {
          "base_uri": "https://localhost:8080/",
          "height": 569
        },
        "id": "NUOODd9wF23c",
        "outputId": "ea6cec39-6028-4eaf-f4fc-344e98fb2bc3"
      },
      "source": [
        "# Make the head nodes trainable again\n",
        "activate_nodes(merged)\n",
        "\n",
        "with tf.GradientTape(persistent=True) as tape:\n",
        "    tape.watch(sample)\n",
        "    pred = merged(sample)\n",
        "    # Get the index of the winning node\n",
        "    index = tf.math.argmax(pred)[0][0]\n",
        "    activate_one_node(merged, int(index))\n",
        "    total_loss = 1 - pred[index][0][0]\n",
        "    # expected_loss = 1 - pred[index][0][0] + pred[index][0][0] - 0.001\n",
        "    # expected_loss = tf.Variable(0.0)\n",
        "    # tape.watch(expected_loss)\n",
        "grads = tape.gradient(total_loss, merged.trainable_variables)\n",
        "print(\"Winning index: \" + str(int(index)))\n",
        "print(\"Loss: \" + str(total_loss))\n",
        "print(\"Trainable variables: \" + str(len(merged.trainable_variables)))\n",
        "print(\"Trainable weights: \" + str(len(merged.trainable_weights)))\n",
        "print(\"Non-trainable weights: \" + str(len(merged.non_trainable_weights)))\n",
        "print(\"Number of grads: \" + str(len(grads)))\n",
        "print(\"Number of grads in top: \" + str(len(grads[0])))\n",
        "\n",
        "# Get the gradient wrt the sample\n",
        "expected_grads = tape.gradient(total_loss, sample)\n",
        "expected_grads = expected_grads.numpy()\n",
        "f_min, f_max = expected_grads.min(), expected_grads.max()\n",
        "expected_grads = (expected_grads - f_min) / (f_max - f_min)\n",
        "square_grads = np.reshape(expected_grads, (dim, dim))\n",
        "plt.figure()\n",
        "plt.imshow(square_grads, cmap='gray')"
      ],
      "execution_count": null,
      "outputs": [
        {
          "output_type": "stream",
          "name": "stdout",
          "text": [
            "Winning index: 6\n",
            "Loss: tf.Tensor(0.021187365, shape=(), dtype=float32)\n",
            "Trainable variables: 2\n",
            "Trainable weights: 2\n",
            "Non-trainable weights: 18\n",
            "Number of grads: 2\n",
            "Number of grads in top: 784\n"
          ]
        },
        {
          "output_type": "execute_result",
          "data": {
            "text/plain": [
              "<matplotlib.image.AxesImage at 0x78464c78f7f0>"
            ]
          },
          "metadata": {},
          "execution_count": 9
        },
        {
          "output_type": "display_data",
          "data": {
            "text/plain": [
              "<Figure size 640x480 with 1 Axes>"
            ],
            "image/png": "[encoded data removed]"
          },
          "metadata": {}
        }
      ]
    },
    {
      "cell_type": "markdown",
      "source": [
        "In addition to visualizing the gradients with respect to the sample in this single layer, we can visualize the weights themselves."
      ],
      "metadata": {
        "id": "_7UcLD15L2IF"
      }
    },
    {
      "cell_type": "code",
      "metadata": {
        "colab": {
          "base_uri": "https://localhost:8080/",
          "height": 652
        },
        "id": "eRdgGXSlLhaH",
        "outputId": "855633b1-2691-4914-b1d7-9ddbcdca08ed"
      },
      "source": [
        "visualize_weights(merged, 4)"
      ],
      "execution_count": null,
      "outputs": [
        {
          "output_type": "execute_result",
          "data": {
            "text/plain": [
              "(<Figure size 960x720 with 1 Axes>, <Axes: >)"
            ]
          },
          "metadata": {},
          "execution_count": 10
        },
        {
          "output_type": "display_data",
          "data": {
            "text/plain": [
              "<Figure size 960x720 with 1 Axes>"
            ],
            "image/png": "[encoded data removed]"
          },
          "metadata": {}
        }
      ]
    },
    {
      "cell_type": "markdown",
      "source": [
        "To no great surprise, these weights are the same as the gradients.\n",
        "This is expected in the single layer case and with a sigmoidal activation function, but it is good to verify the functionality of the GradientTape in this way to know that the gradients being assigned by the given loss in our custom loop with single-node output layers are correct.\n",
        "Again, this is important in the development of our custom training loop later."
      ],
      "metadata": {
        "id": "xzYXvKiKL_tu"
      }
    },
    {
      "cell_type": "markdown",
      "metadata": {
        "id": "dteUfgZmR9Bh"
      },
      "source": [
        "## Check the difference between the input grads and weights\n",
        "\n",
        "To the same end, we can visualize the difference between these weights and gradients to verify that they are the same to working precision."
      ]
    },
    {
      "cell_type": "code",
      "metadata": {
        "colab": {
          "base_uri": "https://localhost:8080/",
          "height": 499
        },
        "id": "665CRa3oOvPL",
        "outputId": "ae0f464c-5354-4b48-893c-aedb31769bf6"
      },
      "source": [
        "# Get and normalize the weights\n",
        "weights, biases = merged.layers[index+1].get_weights()\n",
        "weights = get_normalized_weights(weights)\n",
        "square_weights = np.reshape(weights, (dim, dim))\n",
        "diff = square_weights + square_grads\n",
        "print(np.max(diff))\n",
        "print(np.average(weights))\n",
        "print(np.average(diff))\n",
        "plt.figure()\n",
        "plt.imshow(diff, cmap='gray')"
      ],
      "execution_count": null,
      "outputs": [
        {
          "output_type": "stream",
          "name": "stdout",
          "text": [
            "1.0000001\n",
            "0.52804923\n",
            "1.0\n"
          ]
        },
        {
          "output_type": "execute_result",
          "data": {
            "text/plain": [
              "<matplotlib.image.AxesImage at 0x78464c6f1de0>"
            ]
          },
          "metadata": {},
          "execution_count": 11
        },
        {
          "output_type": "display_data",
          "data": {
            "text/plain": [
              "<Figure size 640x480 with 1 Axes>"
            ],
            "image/png": "[encoded data removed]"
          },
          "metadata": {}
        }
      ]
    },
    {
      "cell_type": "markdown",
      "source": [
        "## Train Shallow Supervised Network"
      ],
      "metadata": {
        "id": "FpdXf2k20mpw"
      }
    },
    {
      "cell_type": "code",
      "source": [
        "# Single training step for a supervised example, using tf.function and tf for under-the-hood optimization (10x faster)\n",
        "def train_step(model, x, label):\n",
        "    # Begin computing gradients\n",
        "    with tf.GradientTape(persistent=True) as tape:\n",
        "        tape.watch(x)\n",
        "        # Get the predictions\n",
        "        pred = model(x)\n",
        "        # Get the index of the winning node\n",
        "        # index = tf.math.argmax(pred)[0][0]\n",
        "        # Turn off learning in the top nodes aside from the label\n",
        "        index = label\n",
        "        activate_one_node(model, index)\n",
        "        # print(tf.gather(pred, index)[0][0])\n",
        "        # Loss is the L1 distance from \"full\" activation\n",
        "        total_loss = tf.constant(1.0)-tf.gather(pred, index)[0][0]\n",
        "    # Compute the gradient wrt the trainable variables\n",
        "    grads = tape.gradient(total_loss, model.trainable_variables)\n",
        "    # Apply the optimizer\n",
        "    model.optimizer.apply_gradients(zip(grads, model.trainable_variables))\n",
        "    # Return the loss\n",
        "    return total_loss\n",
        "\n",
        "# Define the fast function as the step function at first\n",
        "train_step_fast = train_step\n",
        "\n",
        "# Top method to train the network with supervised labels\n",
        "def train_supervised(model, train, test, epochs=1, batch_lim=60000):\n",
        "    # Make the head nodes trainable again\n",
        "    activate_nodes(model)\n",
        "\n",
        "    # Iterate over every epoch\n",
        "    for epoch in range(epochs):\n",
        "        # Print the epoch progress message\n",
        "        print(\"\\nEpoch {}/{}\".format(epoch+1, epochs))\n",
        "        # Create the progress bar\n",
        "        n_samples = tf.data.experimental.cardinality(train).numpy()*128\n",
        "        pb_e = tf.keras.utils.Progbar(n_samples, stateful_metrics=['loss'])\n",
        "        # Iterate over all batches\n",
        "        for batch, (imgs, labels) in enumerate(train):\n",
        "            # Iterate over every image and label\n",
        "            for img, label in zip(imgs, labels):\n",
        "                # Expand the image dim becuase we are using one image at a time\n",
        "                x = tf.expand_dims(img, axis=0)\n",
        "                # Do one training step\n",
        "                total_loss = train_step_fast(model, x, label)\n",
        "                # Update the progress bar\n",
        "                pb_e.add(1, values=[('loss', total_loss)])\n",
        "                # Make the head nodes trainable again\n",
        "                activate_nodes(model)\n",
        "            # If we have hit the batch limit, then stop\n",
        "            if batch > batch_lim:\n",
        "                break\n",
        "\n",
        "# Run the training loop for one batch without the fast function because Tensorflow is weird\n",
        "# It actually isn't weird, but the special graph formulation that I have makes it so that\n",
        "# Tensorflow cannot do some inferences that are necessary to setup a fast static graph\n",
        "# without a few iterations using \"eager execution\".\n",
        "train_supervised(merged, ds_train, ds_test, batch_lim = 1)\n",
        "\n",
        "# Redefine the method as a static graph\n",
        "train_step_fast = tf.function(train_step)\n",
        "\n",
        "# Train the shallow network in supervised mode\n",
        "train_supervised(merged, ds_train, ds_test)"
      ],
      "metadata": {
        "colab": {
          "base_uri": "https://localhost:8080/",
          "height": 461
        },
        "id": "X9L-1hfVl3e5",
        "outputId": "0021bf24-fe81-45e5-b3f6-70fdb71373cc"
      },
      "execution_count": null,
      "outputs": [
        {
          "output_type": "stream",
          "name": "stdout",
          "text": [
            "\n",
            "Epoch 1/1\n",
            "    1/60032 [..............................] - ETA: 156:42:39 - loss: 0.4396"
          ]
        },
        {
          "output_type": "error",
          "ename": "KeyError",
          "evalue": "ignored",
          "traceback": [
            "\u001b[0;31m---------------------------------------------------------------------------\u001b[0m",
            "\u001b[0;31mKeyError\u001b[0m                                  Traceback (most recent call last)",
            "\u001b[0;32m<ipython-input-12-7df040c62e69>\u001b[0m in \u001b[0;36m<cell line: 58>\u001b[0;34m()\u001b[0m\n\u001b[1;32m     56\u001b[0m \u001b[0;31m# Tensorflow cannot do some inferences that are necessary to setup a fast static graph\u001b[0m\u001b[0;34m\u001b[0m\u001b[0;34m\u001b[0m\u001b[0m\n\u001b[1;32m     57\u001b[0m \u001b[0;31m# without a few iterations using \"eager execution\".\u001b[0m\u001b[0;34m\u001b[0m\u001b[0;34m\u001b[0m\u001b[0m\n\u001b[0;32m---> 58\u001b[0;31m \u001b[0mtrain_supervised\u001b[0m\u001b[0;34m(\u001b[0m\u001b[0mmerged\u001b[0m\u001b[0;34m,\u001b[0m \u001b[0mds_train\u001b[0m\u001b[0;34m,\u001b[0m \u001b[0mds_test\u001b[0m\u001b[0;34m,\u001b[0m \u001b[0mbatch_lim\u001b[0m \u001b[0;34m=\u001b[0m \u001b[0;36m1\u001b[0m\u001b[0;34m)\u001b[0m\u001b[0;34m\u001b[0m\u001b[0;34m\u001b[0m\u001b[0m\n\u001b[0m\u001b[1;32m     59\u001b[0m \u001b[0;34m\u001b[0m\u001b[0m\n\u001b[1;32m     60\u001b[0m \u001b[0;31m# Redefine the method as a static graph\u001b[0m\u001b[0;34m\u001b[0m\u001b[0;34m\u001b[0m\u001b[0m\n",
            "\u001b[0;32m<ipython-input-12-7df040c62e69>\u001b[0m in \u001b[0;36mtrain_supervised\u001b[0;34m(model, train, test, epochs, batch_lim)\u001b[0m\n\u001b[1;32m     43\u001b[0m                 \u001b[0mx\u001b[0m \u001b[0;34m=\u001b[0m \u001b[0mtf\u001b[0m\u001b[0;34m.\u001b[0m\u001b[0mexpand_dims\u001b[0m\u001b[0;34m(\u001b[0m\u001b[0mimg\u001b[0m\u001b[0;34m,\u001b[0m \u001b[0maxis\u001b[0m\u001b[0;34m=\u001b[0m\u001b[0;36m0\u001b[0m\u001b[0;34m)\u001b[0m\u001b[0;34m\u001b[0m\u001b[0;34m\u001b[0m\u001b[0m\n\u001b[1;32m     44\u001b[0m                 \u001b[0;31m# Do one training step\u001b[0m\u001b[0;34m\u001b[0m\u001b[0;34m\u001b[0m\u001b[0m\n\u001b[0;32m---> 45\u001b[0;31m                 \u001b[0mtotal_loss\u001b[0m \u001b[0;34m=\u001b[0m \u001b[0mtrain_step_fast\u001b[0m\u001b[0;34m(\u001b[0m\u001b[0mmodel\u001b[0m\u001b[0;34m,\u001b[0m \u001b[0mx\u001b[0m\u001b[0;34m,\u001b[0m \u001b[0mlabel\u001b[0m\u001b[0;34m)\u001b[0m\u001b[0;34m\u001b[0m\u001b[0;34m\u001b[0m\u001b[0m\n\u001b[0m\u001b[1;32m     46\u001b[0m                 \u001b[0;31m# Update the progress bar\u001b[0m\u001b[0;34m\u001b[0m\u001b[0;34m\u001b[0m\u001b[0m\n\u001b[1;32m     47\u001b[0m                 \u001b[0mpb_e\u001b[0m\u001b[0;34m.\u001b[0m\u001b[0madd\u001b[0m\u001b[0;34m(\u001b[0m\u001b[0;36m1\u001b[0m\u001b[0;34m,\u001b[0m \u001b[0mvalues\u001b[0m\u001b[0;34m=\u001b[0m\u001b[0;34m[\u001b[0m\u001b[0;34m(\u001b[0m\u001b[0;34m'loss'\u001b[0m\u001b[0;34m,\u001b[0m \u001b[0mtotal_loss\u001b[0m\u001b[0;34m)\u001b[0m\u001b[0;34m]\u001b[0m\u001b[0;34m)\u001b[0m\u001b[0;34m\u001b[0m\u001b[0;34m\u001b[0m\u001b[0m\n",
            "\u001b[0;32m<ipython-input-12-7df040c62e69>\u001b[0m in \u001b[0;36mtrain_step\u001b[0;34m(model, x, label)\u001b[0m\n\u001b[1;32m     17\u001b[0m     \u001b[0mgrads\u001b[0m \u001b[0;34m=\u001b[0m \u001b[0mtape\u001b[0m\u001b[0;34m.\u001b[0m\u001b[0mgradient\u001b[0m\u001b[0;34m(\u001b[0m\u001b[0mtotal_loss\u001b[0m\u001b[0;34m,\u001b[0m \u001b[0mmodel\u001b[0m\u001b[0;34m.\u001b[0m\u001b[0mtrainable_variables\u001b[0m\u001b[0;34m)\u001b[0m\u001b[0;34m\u001b[0m\u001b[0;34m\u001b[0m\u001b[0m\n\u001b[1;32m     18\u001b[0m     \u001b[0;31m# Apply the optimizer\u001b[0m\u001b[0;34m\u001b[0m\u001b[0;34m\u001b[0m\u001b[0m\n\u001b[0;32m---> 19\u001b[0;31m     \u001b[0mmodel\u001b[0m\u001b[0;34m.\u001b[0m\u001b[0moptimizer\u001b[0m\u001b[0;34m.\u001b[0m\u001b[0mapply_gradients\u001b[0m\u001b[0;34m(\u001b[0m\u001b[0mzip\u001b[0m\u001b[0;34m(\u001b[0m\u001b[0mgrads\u001b[0m\u001b[0;34m,\u001b[0m \u001b[0mmodel\u001b[0m\u001b[0;34m.\u001b[0m\u001b[0mtrainable_variables\u001b[0m\u001b[0;34m)\u001b[0m\u001b[0;34m)\u001b[0m\u001b[0;34m\u001b[0m\u001b[0;34m\u001b[0m\u001b[0m\n\u001b[0m\u001b[1;32m     20\u001b[0m     \u001b[0;31m# Return the loss\u001b[0m\u001b[0;34m\u001b[0m\u001b[0;34m\u001b[0m\u001b[0m\n\u001b[1;32m     21\u001b[0m     \u001b[0;32mreturn\u001b[0m \u001b[0mtotal_loss\u001b[0m\u001b[0;34m\u001b[0m\u001b[0;34m\u001b[0m\u001b[0m\n",
            "\u001b[0;32m/usr/local/lib/python3.10/dist-packages/keras/src/optimizers/optimizer.py\u001b[0m in \u001b[0;36mapply_gradients\u001b[0;34m(self, grads_and_vars, name, skip_gradients_aggregation, **kwargs)\u001b[0m\n\u001b[1;32m   1221\u001b[0m         \u001b[0;32mif\u001b[0m \u001b[0;32mnot\u001b[0m \u001b[0mskip_gradients_aggregation\u001b[0m \u001b[0;32mand\u001b[0m \u001b[0mexperimental_aggregate_gradients\u001b[0m\u001b[0;34m:\u001b[0m\u001b[0;34m\u001b[0m\u001b[0;34m\u001b[0m\u001b[0m\n\u001b[1;32m   1222\u001b[0m             \u001b[0mgrads_and_vars\u001b[0m \u001b[0;34m=\u001b[0m \u001b[0mself\u001b[0m\u001b[0;34m.\u001b[0m\u001b[0maggregate_gradients\u001b[0m\u001b[0;34m(\u001b[0m\u001b[0mgrads_and_vars\u001b[0m\u001b[0;34m)\u001b[0m\u001b[0;34m\u001b[0m\u001b[0;34m\u001b[0m\u001b[0m\n\u001b[0;32m-> 1223\u001b[0;31m         \u001b[0;32mreturn\u001b[0m \u001b[0msuper\u001b[0m\u001b[0;34m(\u001b[0m\u001b[0;34m)\u001b[0m\u001b[0;34m.\u001b[0m\u001b[0mapply_gradients\u001b[0m\u001b[0;34m(\u001b[0m\u001b[0mgrads_and_vars\u001b[0m\u001b[0;34m,\u001b[0m \u001b[0mname\u001b[0m\u001b[0;34m=\u001b[0m\u001b[0mname\u001b[0m\u001b[0;34m)\u001b[0m\u001b[0;34m\u001b[0m\u001b[0;34m\u001b[0m\u001b[0m\n\u001b[0m\u001b[1;32m   1224\u001b[0m \u001b[0;34m\u001b[0m\u001b[0m\n\u001b[1;32m   1225\u001b[0m     \u001b[0;32mdef\u001b[0m \u001b[0m_apply_weight_decay\u001b[0m\u001b[0;34m(\u001b[0m\u001b[0mself\u001b[0m\u001b[0;34m,\u001b[0m \u001b[0mvariables\u001b[0m\u001b[0;34m)\u001b[0m\u001b[0;34m:\u001b[0m\u001b[0;34m\u001b[0m\u001b[0;34m\u001b[0m\u001b[0m\n",
            "\u001b[0;32m/usr/local/lib/python3.10/dist-packages/keras/src/optimizers/optimizer.py\u001b[0m in \u001b[0;36mapply_gradients\u001b[0;34m(self, grads_and_vars, name)\u001b[0m\n\u001b[1;32m    650\u001b[0m             \u001b[0mself\u001b[0m\u001b[0;34m.\u001b[0m\u001b[0m_apply_weight_decay\u001b[0m\u001b[0;34m(\u001b[0m\u001b[0mtrainable_variables\u001b[0m\u001b[0;34m)\u001b[0m\u001b[0;34m\u001b[0m\u001b[0;34m\u001b[0m\u001b[0m\n\u001b[1;32m    651\u001b[0m             \u001b[0mgrads_and_vars\u001b[0m \u001b[0;34m=\u001b[0m \u001b[0mlist\u001b[0m\u001b[0;34m(\u001b[0m\u001b[0mzip\u001b[0m\u001b[0;34m(\u001b[0m\u001b[0mgrads\u001b[0m\u001b[0;34m,\u001b[0m \u001b[0mtrainable_variables\u001b[0m\u001b[0;34m)\u001b[0m\u001b[0;34m)\u001b[0m\u001b[0;34m\u001b[0m\u001b[0;34m\u001b[0m\u001b[0m\n\u001b[0;32m--> 652\u001b[0;31m             \u001b[0miteration\u001b[0m \u001b[0;34m=\u001b[0m \u001b[0mself\u001b[0m\u001b[0;34m.\u001b[0m\u001b[0m_internal_apply_gradients\u001b[0m\u001b[0;34m(\u001b[0m\u001b[0mgrads_and_vars\u001b[0m\u001b[0;34m)\u001b[0m\u001b[0;34m\u001b[0m\u001b[0;34m\u001b[0m\u001b[0m\n\u001b[0m\u001b[1;32m    653\u001b[0m \u001b[0;34m\u001b[0m\u001b[0m\n\u001b[1;32m    654\u001b[0m             \u001b[0;31m# Apply variable constraints after applying gradients.\u001b[0m\u001b[0;34m\u001b[0m\u001b[0;34m\u001b[0m\u001b[0m\n",
            "\u001b[0;32m/usr/local/lib/python3.10/dist-packages/keras/src/optimizers/optimizer.py\u001b[0m in \u001b[0;36m_internal_apply_gradients\u001b[0;34m(self, grads_and_vars)\u001b[0m\n\u001b[1;32m   1251\u001b[0m             \u001b[0;32mreturn\u001b[0m \u001b[0msuper\u001b[0m\u001b[0;34m(\u001b[0m\u001b[0;34m)\u001b[0m\u001b[0;34m.\u001b[0m\u001b[0m_internal_apply_gradients\u001b[0m\u001b[0;34m(\u001b[0m\u001b[0mgrads_and_vars\u001b[0m\u001b[0;34m)\u001b[0m\u001b[0;34m\u001b[0m\u001b[0;34m\u001b[0m\u001b[0m\n\u001b[1;32m   1252\u001b[0m \u001b[0;34m\u001b[0m\u001b[0m\n\u001b[0;32m-> 1253\u001b[0;31m         return tf.__internal__.distribute.interim.maybe_merge_call(\n\u001b[0m\u001b[1;32m   1254\u001b[0m             \u001b[0mself\u001b[0m\u001b[0;34m.\u001b[0m\u001b[0m_distributed_apply_gradients_fn\u001b[0m\u001b[0;34m,\u001b[0m\u001b[0;34m\u001b[0m\u001b[0;34m\u001b[0m\u001b[0m\n\u001b[1;32m   1255\u001b[0m             \u001b[0mself\u001b[0m\u001b[0;34m.\u001b[0m\u001b[0m_distribution_strategy\u001b[0m\u001b[0;34m,\u001b[0m\u001b[0;34m\u001b[0m\u001b[0;34m\u001b[0m\u001b[0m\n",
            "\u001b[0;32m/usr/local/lib/python3.10/dist-packages/tensorflow/python/distribute/merge_call_interim.py\u001b[0m in \u001b[0;36mmaybe_merge_call\u001b[0;34m(fn, strategy, *args, **kwargs)\u001b[0m\n\u001b[1;32m     49\u001b[0m   \"\"\"\n\u001b[1;32m     50\u001b[0m   \u001b[0;32mif\u001b[0m \u001b[0mstrategy_supports_no_merge_call\u001b[0m\u001b[0;34m(\u001b[0m\u001b[0;34m)\u001b[0m\u001b[0;34m:\u001b[0m\u001b[0;34m\u001b[0m\u001b[0;34m\u001b[0m\u001b[0m\n\u001b[0;32m---> 51\u001b[0;31m     \u001b[0;32mreturn\u001b[0m \u001b[0mfn\u001b[0m\u001b[0;34m(\u001b[0m\u001b[0mstrategy\u001b[0m\u001b[0;34m,\u001b[0m \u001b[0;34m*\u001b[0m\u001b[0margs\u001b[0m\u001b[0;34m,\u001b[0m \u001b[0;34m**\u001b[0m\u001b[0mkwargs\u001b[0m\u001b[0;34m)\u001b[0m\u001b[0;34m\u001b[0m\u001b[0;34m\u001b[0m\u001b[0m\n\u001b[0m\u001b[1;32m     52\u001b[0m   \u001b[0;32melse\u001b[0m\u001b[0;34m:\u001b[0m\u001b[0;34m\u001b[0m\u001b[0;34m\u001b[0m\u001b[0m\n\u001b[1;32m     53\u001b[0m     return distribute_lib.get_replica_context().merge_call(\n",
            "\u001b[0;32m/usr/local/lib/python3.10/dist-packages/keras/src/optimizers/optimizer.py\u001b[0m in \u001b[0;36m_distributed_apply_gradients_fn\u001b[0;34m(self, distribution, grads_and_vars, **kwargs)\u001b[0m\n\u001b[1;32m   1343\u001b[0m \u001b[0;34m\u001b[0m\u001b[0m\n\u001b[1;32m   1344\u001b[0m         \u001b[0;32mfor\u001b[0m \u001b[0mgrad\u001b[0m\u001b[0;34m,\u001b[0m \u001b[0mvar\u001b[0m \u001b[0;32min\u001b[0m \u001b[0mgrads_and_vars\u001b[0m\u001b[0;34m:\u001b[0m\u001b[0;34m\u001b[0m\u001b[0;34m\u001b[0m\u001b[0m\n\u001b[0;32m-> 1345\u001b[0;31m             distribution.extended.update(\n\u001b[0m\u001b[1;32m   1346\u001b[0m                 \u001b[0mvar\u001b[0m\u001b[0;34m,\u001b[0m \u001b[0mapply_grad_to_update_var\u001b[0m\u001b[0;34m,\u001b[0m \u001b[0margs\u001b[0m\u001b[0;34m=\u001b[0m\u001b[0;34m(\u001b[0m\u001b[0mgrad\u001b[0m\u001b[0;34m,\u001b[0m\u001b[0;34m)\u001b[0m\u001b[0;34m,\u001b[0m \u001b[0mgroup\u001b[0m\u001b[0;34m=\u001b[0m\u001b[0;32mFalse\u001b[0m\u001b[0;34m\u001b[0m\u001b[0;34m\u001b[0m\u001b[0m\n\u001b[1;32m   1347\u001b[0m             )\n",
            "\u001b[0;32m/usr/local/lib/python3.10/dist-packages/tensorflow/python/distribute/distribute_lib.py\u001b[0m in \u001b[0;36mupdate\u001b[0;34m(self, var, fn, args, kwargs, group)\u001b[0m\n\u001b[1;32m   3009\u001b[0m           fn, autograph_ctx.control_status_ctx(), convert_by_default=False)\n\u001b[1;32m   3010\u001b[0m       \u001b[0;32mwith\u001b[0m \u001b[0mself\u001b[0m\u001b[0;34m.\u001b[0m\u001b[0m_container_strategy\u001b[0m\u001b[0;34m(\u001b[0m\u001b[0;34m)\u001b[0m\u001b[0;34m.\u001b[0m\u001b[0mscope\u001b[0m\u001b[0;34m(\u001b[0m\u001b[0;34m)\u001b[0m\u001b[0;34m:\u001b[0m\u001b[0;34m\u001b[0m\u001b[0;34m\u001b[0m\u001b[0m\n\u001b[0;32m-> 3011\u001b[0;31m         \u001b[0;32mreturn\u001b[0m \u001b[0mself\u001b[0m\u001b[0;34m.\u001b[0m\u001b[0m_update\u001b[0m\u001b[0;34m(\u001b[0m\u001b[0mvar\u001b[0m\u001b[0;34m,\u001b[0m \u001b[0mfn\u001b[0m\u001b[0;34m,\u001b[0m \u001b[0margs\u001b[0m\u001b[0;34m,\u001b[0m \u001b[0mkwargs\u001b[0m\u001b[0;34m,\u001b[0m \u001b[0mgroup\u001b[0m\u001b[0;34m)\u001b[0m\u001b[0;34m\u001b[0m\u001b[0;34m\u001b[0m\u001b[0m\n\u001b[0m\u001b[1;32m   3012\u001b[0m     \u001b[0;32melse\u001b[0m\u001b[0;34m:\u001b[0m\u001b[0;34m\u001b[0m\u001b[0;34m\u001b[0m\u001b[0m\n\u001b[1;32m   3013\u001b[0m       return self._replica_ctx_update(\n",
            "\u001b[0;32m/usr/local/lib/python3.10/dist-packages/tensorflow/python/distribute/distribute_lib.py\u001b[0m in \u001b[0;36m_update\u001b[0;34m(self, var, fn, args, kwargs, group)\u001b[0m\n\u001b[1;32m   4079\u001b[0m     \u001b[0;31m# The implementations of _update() and _update_non_slot() are identical\u001b[0m\u001b[0;34m\u001b[0m\u001b[0;34m\u001b[0m\u001b[0m\n\u001b[1;32m   4080\u001b[0m     \u001b[0;31m# except _update() passes `var` as the first argument to `fn()`.\u001b[0m\u001b[0;34m\u001b[0m\u001b[0;34m\u001b[0m\u001b[0m\n\u001b[0;32m-> 4081\u001b[0;31m     \u001b[0;32mreturn\u001b[0m \u001b[0mself\u001b[0m\u001b[0;34m.\u001b[0m\u001b[0m_update_non_slot\u001b[0m\u001b[0;34m(\u001b[0m\u001b[0mvar\u001b[0m\u001b[0;34m,\u001b[0m \u001b[0mfn\u001b[0m\u001b[0;34m,\u001b[0m \u001b[0;34m(\u001b[0m\u001b[0mvar\u001b[0m\u001b[0;34m,\u001b[0m\u001b[0;34m)\u001b[0m \u001b[0;34m+\u001b[0m \u001b[0mtuple\u001b[0m\u001b[0;34m(\u001b[0m\u001b[0margs\u001b[0m\u001b[0;34m)\u001b[0m\u001b[0;34m,\u001b[0m \u001b[0mkwargs\u001b[0m\u001b[0;34m,\u001b[0m \u001b[0mgroup\u001b[0m\u001b[0;34m)\u001b[0m\u001b[0;34m\u001b[0m\u001b[0;34m\u001b[0m\u001b[0m\n\u001b[0m\u001b[1;32m   4082\u001b[0m \u001b[0;34m\u001b[0m\u001b[0m\n\u001b[1;32m   4083\u001b[0m   \u001b[0;32mdef\u001b[0m \u001b[0m_update_non_slot\u001b[0m\u001b[0;34m(\u001b[0m\u001b[0mself\u001b[0m\u001b[0;34m,\u001b[0m \u001b[0mcolocate_with\u001b[0m\u001b[0;34m,\u001b[0m \u001b[0mfn\u001b[0m\u001b[0;34m,\u001b[0m \u001b[0margs\u001b[0m\u001b[0;34m,\u001b[0m \u001b[0mkwargs\u001b[0m\u001b[0;34m,\u001b[0m \u001b[0mshould_group\u001b[0m\u001b[0;34m)\u001b[0m\u001b[0;34m:\u001b[0m\u001b[0;34m\u001b[0m\u001b[0;34m\u001b[0m\u001b[0m\n",
            "\u001b[0;32m/usr/local/lib/python3.10/dist-packages/tensorflow/python/distribute/distribute_lib.py\u001b[0m in \u001b[0;36m_update_non_slot\u001b[0;34m(self, colocate_with, fn, args, kwargs, should_group)\u001b[0m\n\u001b[1;32m   4085\u001b[0m     \u001b[0;31m# once that value is used for something.\u001b[0m\u001b[0;34m\u001b[0m\u001b[0;34m\u001b[0m\u001b[0m\n\u001b[1;32m   4086\u001b[0m     \u001b[0;32mwith\u001b[0m \u001b[0mUpdateContext\u001b[0m\u001b[0;34m(\u001b[0m\u001b[0mcolocate_with\u001b[0m\u001b[0;34m)\u001b[0m\u001b[0;34m:\u001b[0m\u001b[0;34m\u001b[0m\u001b[0;34m\u001b[0m\u001b[0m\n\u001b[0;32m-> 4087\u001b[0;31m       \u001b[0mresult\u001b[0m \u001b[0;34m=\u001b[0m \u001b[0mfn\u001b[0m\u001b[0;34m(\u001b[0m\u001b[0;34m*\u001b[0m\u001b[0margs\u001b[0m\u001b[0;34m,\u001b[0m \u001b[0;34m**\u001b[0m\u001b[0mkwargs\u001b[0m\u001b[0;34m)\u001b[0m\u001b[0;34m\u001b[0m\u001b[0;34m\u001b[0m\u001b[0m\n\u001b[0m\u001b[1;32m   4088\u001b[0m       \u001b[0;32mif\u001b[0m \u001b[0mshould_group\u001b[0m\u001b[0;34m:\u001b[0m\u001b[0;34m\u001b[0m\u001b[0;34m\u001b[0m\u001b[0m\n\u001b[1;32m   4089\u001b[0m         \u001b[0;32mreturn\u001b[0m \u001b[0mresult\u001b[0m\u001b[0;34m\u001b[0m\u001b[0;34m\u001b[0m\u001b[0m\n",
            "\u001b[0;32m/usr/local/lib/python3.10/dist-packages/tensorflow/python/autograph/impl/api.py\u001b[0m in \u001b[0;36mwrapper\u001b[0;34m(*args, **kwargs)\u001b[0m\n\u001b[1;32m    594\u001b[0m   \u001b[0;32mdef\u001b[0m \u001b[0mwrapper\u001b[0m\u001b[0;34m(\u001b[0m\u001b[0;34m*\u001b[0m\u001b[0margs\u001b[0m\u001b[0;34m,\u001b[0m \u001b[0;34m**\u001b[0m\u001b[0mkwargs\u001b[0m\u001b[0;34m)\u001b[0m\u001b[0;34m:\u001b[0m\u001b[0;34m\u001b[0m\u001b[0;34m\u001b[0m\u001b[0m\n\u001b[1;32m    595\u001b[0m     \u001b[0;32mwith\u001b[0m \u001b[0mag_ctx\u001b[0m\u001b[0;34m.\u001b[0m\u001b[0mControlStatusCtx\u001b[0m\u001b[0;34m(\u001b[0m\u001b[0mstatus\u001b[0m\u001b[0;34m=\u001b[0m\u001b[0mag_ctx\u001b[0m\u001b[0;34m.\u001b[0m\u001b[0mStatus\u001b[0m\u001b[0;34m.\u001b[0m\u001b[0mUNSPECIFIED\u001b[0m\u001b[0;34m)\u001b[0m\u001b[0;34m:\u001b[0m\u001b[0;34m\u001b[0m\u001b[0;34m\u001b[0m\u001b[0m\n\u001b[0;32m--> 596\u001b[0;31m       \u001b[0;32mreturn\u001b[0m \u001b[0mfunc\u001b[0m\u001b[0;34m(\u001b[0m\u001b[0;34m*\u001b[0m\u001b[0margs\u001b[0m\u001b[0;34m,\u001b[0m \u001b[0;34m**\u001b[0m\u001b[0mkwargs\u001b[0m\u001b[0;34m)\u001b[0m\u001b[0;34m\u001b[0m\u001b[0;34m\u001b[0m\u001b[0m\n\u001b[0m\u001b[1;32m    597\u001b[0m \u001b[0;34m\u001b[0m\u001b[0m\n\u001b[1;32m    598\u001b[0m   \u001b[0;32mif\u001b[0m \u001b[0minspect\u001b[0m\u001b[0;34m.\u001b[0m\u001b[0misfunction\u001b[0m\u001b[0;34m(\u001b[0m\u001b[0mfunc\u001b[0m\u001b[0;34m)\u001b[0m \u001b[0;32mor\u001b[0m \u001b[0minspect\u001b[0m\u001b[0;34m.\u001b[0m\u001b[0mismethod\u001b[0m\u001b[0;34m(\u001b[0m\u001b[0mfunc\u001b[0m\u001b[0;34m)\u001b[0m\u001b[0;34m:\u001b[0m\u001b[0;34m\u001b[0m\u001b[0;34m\u001b[0m\u001b[0m\n",
            "\u001b[0;32m/usr/local/lib/python3.10/dist-packages/keras/src/optimizers/optimizer.py\u001b[0m in \u001b[0;36mapply_grad_to_update_var\u001b[0;34m(var, grad)\u001b[0m\n\u001b[1;32m   1340\u001b[0m                 \u001b[0;32mreturn\u001b[0m \u001b[0mself\u001b[0m\u001b[0;34m.\u001b[0m\u001b[0m_update_step_xla\u001b[0m\u001b[0;34m(\u001b[0m\u001b[0mgrad\u001b[0m\u001b[0;34m,\u001b[0m \u001b[0mvar\u001b[0m\u001b[0;34m,\u001b[0m \u001b[0mid\u001b[0m\u001b[0;34m(\u001b[0m\u001b[0mself\u001b[0m\u001b[0;34m.\u001b[0m\u001b[0m_var_key\u001b[0m\u001b[0;34m(\u001b[0m\u001b[0mvar\u001b[0m\u001b[0;34m)\u001b[0m\u001b[0;34m)\u001b[0m\u001b[0;34m)\u001b[0m\u001b[0;34m\u001b[0m\u001b[0;34m\u001b[0m\u001b[0m\n\u001b[1;32m   1341\u001b[0m             \u001b[0;32melse\u001b[0m\u001b[0;34m:\u001b[0m\u001b[0;34m\u001b[0m\u001b[0;34m\u001b[0m\u001b[0m\n\u001b[0;32m-> 1342\u001b[0;31m                 \u001b[0;32mreturn\u001b[0m \u001b[0mself\u001b[0m\u001b[0;34m.\u001b[0m\u001b[0m_update_step\u001b[0m\u001b[0;34m(\u001b[0m\u001b[0mgrad\u001b[0m\u001b[0;34m,\u001b[0m \u001b[0mvar\u001b[0m\u001b[0;34m)\u001b[0m\u001b[0;34m\u001b[0m\u001b[0;34m\u001b[0m\u001b[0m\n\u001b[0m\u001b[1;32m   1343\u001b[0m \u001b[0;34m\u001b[0m\u001b[0m\n\u001b[1;32m   1344\u001b[0m         \u001b[0;32mfor\u001b[0m \u001b[0mgrad\u001b[0m\u001b[0;34m,\u001b[0m \u001b[0mvar\u001b[0m \u001b[0;32min\u001b[0m \u001b[0mgrads_and_vars\u001b[0m\u001b[0;34m:\u001b[0m\u001b[0;34m\u001b[0m\u001b[0;34m\u001b[0m\u001b[0m\n",
            "\u001b[0;32m/usr/local/lib/python3.10/dist-packages/keras/src/optimizers/optimizer.py\u001b[0m in \u001b[0;36m_update_step\u001b[0;34m(self, gradient, variable)\u001b[0m\n\u001b[1;32m    231\u001b[0m             \u001b[0;32mreturn\u001b[0m\u001b[0;34m\u001b[0m\u001b[0;34m\u001b[0m\u001b[0m\n\u001b[1;32m    232\u001b[0m         \u001b[0;32mif\u001b[0m \u001b[0mself\u001b[0m\u001b[0;34m.\u001b[0m\u001b[0m_var_key\u001b[0m\u001b[0;34m(\u001b[0m\u001b[0mvariable\u001b[0m\u001b[0;34m)\u001b[0m \u001b[0;32mnot\u001b[0m \u001b[0;32min\u001b[0m \u001b[0mself\u001b[0m\u001b[0;34m.\u001b[0m\u001b[0m_index_dict\u001b[0m\u001b[0;34m:\u001b[0m\u001b[0;34m\u001b[0m\u001b[0;34m\u001b[0m\u001b[0m\n\u001b[0;32m--> 233\u001b[0;31m             raise KeyError(\n\u001b[0m\u001b[1;32m    234\u001b[0m                 \u001b[0;34mf\"The optimizer cannot recognize variable {variable.name}. \"\u001b[0m\u001b[0;34m\u001b[0m\u001b[0;34m\u001b[0m\u001b[0m\n\u001b[1;32m    235\u001b[0m                 \u001b[0;34m\"This usually means you are trying to call the optimizer to \"\u001b[0m\u001b[0;34m\u001b[0m\u001b[0;34m\u001b[0m\u001b[0m\n",
            "\u001b[0;31mKeyError\u001b[0m: 'The optimizer cannot recognize variable B6/kernel:0. This usually means you are trying to call the optimizer to update different parts of the model separately. Please call `optimizer.build(variables)` with the full list of trainable variables before the training loop or use legacy optimizer `tf.keras.optimizers.legacy.Adam.'"
          ]
        }
      ]
    },
    {
      "cell_type": "markdown",
      "source": [
        "After training, we can visualize the shallow network's weights to see the prototypes that it developed during training"
      ],
      "metadata": {
        "id": "btyvNSyGSoMb"
      }
    },
    {
      "cell_type": "code",
      "source": [
        "visualize_all_weights(merged)\n",
        "plt.savefig(resultsdir.joinpath(\"prototypes_shallow.png\"))"
      ],
      "metadata": {
        "id": "l4QgwaMYEg_x"
      },
      "execution_count": null,
      "outputs": []
    },
    {
      "cell_type": "markdown",
      "source": [
        "Let's look at one of the prototypes up close to see where it expects activated pixels for this class to be."
      ],
      "metadata": {
        "id": "qE2oyD43uDa7"
      }
    },
    {
      "cell_type": "code",
      "source": [
        "# Visualize the zero up close\n",
        "visualize_weights(merged, 0)\n",
        "plt.savefig(resultsdir.joinpath(\"zero_shallow.png\"))"
      ],
      "metadata": {
        "id": "ZYfNF50Ttudi"
      },
      "execution_count": null,
      "outputs": []
    },
    {
      "cell_type": "markdown",
      "source": [
        "We can also test to see the performance after training"
      ],
      "metadata": {
        "id": "bC92oHsrggLY"
      }
    },
    {
      "cell_type": "code",
      "source": [
        "# Method for testing supervised networks\n",
        "def test_supervised(model, test):\n",
        "    # Make the head nodes trainable again\n",
        "    activate_nodes(model)\n",
        "    # Create the progress bar\n",
        "    n_samples = tf.data.experimental.cardinality(test).numpy()\n",
        "    pb_e = tf.keras.utils.Progbar(n_samples, stateful_metrics=['accuracy'])\n",
        "\n",
        "    m = tf.keras.metrics.Accuracy()\n",
        "\n",
        "    # Iterate over all batches\n",
        "    for batch, (imgs, labels) in enumerate(test):\n",
        "        preds = model.predict(imgs)\n",
        "        indices = tf.math.argmax(preds, axis=0)\n",
        "        m.update_state(indices, labels)\n",
        "        # Update the progress bar\n",
        "        pb_e.add(1, values=[\n",
        "            ('accuracy', m.result())\n",
        "        ])\n",
        "    return m.result().numpy()\n",
        "\n",
        "result = test_supervised(merged, ds_test)\n",
        "print(\"\\nAccuracy:\", str(result))"
      ],
      "metadata": {
        "id": "v5I5OTaVLAsP"
      },
      "execution_count": null,
      "outputs": []
    },
    {
      "cell_type": "markdown",
      "source": [
        "As expected, this network performs much better than random on this high-dimensional dataset, but it certainly does not perform as well as we would wish.\n",
        "Still, this is not so bad for a single epoch through all the data."
      ],
      "metadata": {
        "id": "KxXk27isglI7"
      }
    },
    {
      "cell_type": "markdown",
      "metadata": {
        "id": "HKlEuEc7TFul"
      },
      "source": [
        "## Make a deeper network\n",
        "\n",
        "Now we can create a deep instar network and see how it performs using the same training rules as above."
      ]
    },
    {
      "cell_type": "code",
      "metadata": {
        "id": "yPr1QVEpSNkW"
      },
      "source": [
        "# Create deep instar\n",
        "merged_deep = get_deep_instar()\n",
        "\n",
        "model_file = resultsdir.joinpath(\"deep_instar.png\")\n",
        "plot_model(merged_deep, to_file=model_file, show_shapes=True)"
      ],
      "execution_count": null,
      "outputs": []
    },
    {
      "cell_type": "code",
      "source": [
        "# Just as before, run for one iteration with eager execution\n",
        "train_step_fast = train_step\n",
        "train_supervised(merged_deep, ds_train, ds_test, batch_lim = 1)\n",
        "\n",
        "# Redefine the method as a static graph\n",
        "train_step_fast = tf.function(train_step)\n",
        "\n",
        "# Train the shallow network in supervised mode\n",
        "train_supervised(merged_deep, ds_train, ds_test)"
      ],
      "metadata": {
        "id": "WXp4LLseg8kd"
      },
      "execution_count": null,
      "outputs": []
    },
    {
      "cell_type": "markdown",
      "source": [
        "After training, we will once again test the network's accuracy because we trained it in supervised mode."
      ],
      "metadata": {
        "id": "TK5S_WJ0quqP"
      }
    },
    {
      "cell_type": "code",
      "source": [
        "result = test_supervised(merged_deep, ds_test)\n",
        "print(\"\\nAccuracy:\", str(result))"
      ],
      "metadata": {
        "id": "rBbl_wqGhR7D"
      },
      "execution_count": null,
      "outputs": []
    },
    {
      "cell_type": "markdown",
      "source": [
        "Already, adding a second layer to the network has skyrocketed the performance from before.\n",
        "This was somewhat expected because of how high-dimensional input spaces can be transformed into linearly separable spaces when using multiple layers.\n",
        "However, this result is still a great surprise because of how we used a deep competitive network formulation with a single pass through the data rather than using a batch-optimized multilayer perceptron or CNN."
      ],
      "metadata": {
        "id": "58HOehpoqt6d"
      }
    }
  ]
}