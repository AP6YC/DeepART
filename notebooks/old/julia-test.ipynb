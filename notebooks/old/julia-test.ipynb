{
 "cells": [
  {
   "cell_type": "code",
   "execution_count": 10,
   "metadata": {},
   "outputs": [
    {
     "name": "stderr",
     "output_type": "stream",
     "text": [
      "\n",
      "Precompiling PyCall...\n",
      "Precompiling PyCall... DONE\n",
      "PyCall is installed and built successfully.\n"
     ]
    }
   ],
   "source": [
    "import julia\n",
    "julia.install()"
   ]
  },
  {
   "cell_type": "code",
   "execution_count": 14,
   "metadata": {},
   "outputs": [],
   "source": [
    "from julia import Pkg\n",
    "Pkg.add(\"AdaptiveResonance\")\n",
    "# jl.Base.sind(90)\n",
    "# from julia import Base"
   ]
  }
 ],
 "metadata": {
  "interpreter": {
   "hash": "40ea4657e151deccd26e710afdc23502568d00c9dc74ee869c6dd1f0e477bcf5"
  },
  "kernelspec": {
   "display_name": "Python 3.8.12 64-bit ('deepart2': conda)",
   "name": "python3"
  },
  "language_info": {
   "codemirror_mode": {
    "name": "ipython",
    "version": 3
   },
   "file_extension": ".py",
   "mimetype": "text/x-python",
   "name": "python",
   "nbconvert_exporter": "python",
   "pygments_lexer": "ipython3",
   "version": "3.8.12"
  },
  "orig_nbformat": 4
 },
 "nbformat": 4,
 "nbformat_minor": 2
}
