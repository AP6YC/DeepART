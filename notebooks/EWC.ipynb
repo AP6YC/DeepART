{
  "cells": [
    {
      "cell_type": "code",
      "execution_count": 1,
      "metadata": {
        "id": "FinePxC6mQmG"
      },
      "outputs": [],
      "source": [
        "import tensorflow as tf\n",
        "import tensorflow_datasets as tfds"
      ]
    },
    {
      "cell_type": "markdown",
      "metadata": {},
      "source": []
    },
    {
      "cell_type": "code",
      "execution_count": 2,
      "metadata": {
        "colab": {
          "base_uri": "https://localhost:8080/",
          "height": 202,
          "referenced_widgets": [
            "a1a68ae83dc84600a420cceec08f8316",
            "d6baeac1b27743659e269b585e304522",
            "3b33a21378914482af0eb86c3c8e36bc",
            "4d68047621494322b3f3c9b5f720c497",
            "bf46d2c14807421a9185f6591fc98e8a",
            "55b5ed2eb70140bdb25c3252474e41ea",
            "a3a1fe12fb6246d28c50383a49956194",
            "408617dfa95448ca8db3843483f51f94"
          ]
        },
        "id": "EVnouwi0mWkm",
        "outputId": "01b06437-481b-4109-b74e-986cb37e3165"
      },
      "outputs": [
        {
          "name": "stdout",
          "output_type": "stream",
          "text": [
            "\u001b[1mDownloading and preparing dataset Unknown size (download: Unknown size, generated: Unknown size, total: Unknown size) to C:\\Users\\Sasha\\tensorflow_datasets\\mnist\\3.0.1...\u001b[0m\n"
          ]
        },
        {
          "name": "stderr",
          "output_type": "stream",
          "text": [
            "Dl Completed...: 0 url [00:00, ? url/s]\n",
            "Dl Completed...:   0%|          | 0/1 [00:00<?, ? url/s]\n",
            "Dl Completed...:   0%|          | 0/2 [00:00<?, ? url/s]\n",
            "Dl Completed...:   0%|          | 0/3 [00:00<?, ? url/s]\n",
            "Dl Completed...:   0%|          | 0/4 [00:00<?, ? url/s]\n",
            "Dl Completed...:   0%|          | 0/4 [00:00<?, ? url/s]\n",
            "Dl Completed...:  25%|██▌       | 1/4 [00:00<00:00,  5.15 url/s]\n",
            "Dl Completed...:  25%|██▌       | 1/4 [00:00<00:00,  5.15 url/s]\n",
            "Dl Completed...:  25%|██▌       | 1/4 [00:00<00:00,  5.15 url/s]\n",
            "Dl Completed...:  25%|██▌       | 1/4 [00:00<00:00,  5.15 url/s]\n",
            "Dl Completed...:  25%|██▌       | 1/4 [00:00<00:00,  5.15 url/s]\n",
            "Dl Completed...:  50%|█████     | 2/4 [00:00<00:00,  5.15 url/s]\n",
            "\u001b[A\n",
            "Dl Completed...:  50%|█████     | 2/4 [00:00<00:00,  5.15 url/s]\n",
            "Dl Completed...:  50%|█████     | 2/4 [00:00<00:00,  5.15 url/s]\n",
            "Dl Completed...:  50%|█████     | 2/4 [00:00<00:00,  5.15 url/s]\n",
            "Dl Completed...:  50%|█████     | 2/4 [00:00<00:00,  5.15 url/s]\n",
            "Dl Completed...:  50%|█████     | 2/4 [00:00<00:00,  5.15 url/s]\n",
            "Dl Completed...:  75%|███████▌  | 3/4 [00:00<00:00,  4.73 url/s]\n",
            "Dl Completed...:  75%|███████▌  | 3/4 [00:00<00:00,  4.73 url/s]\n",
            "\u001b[A\n",
            "Dl Completed...:  75%|███████▌  | 3/4 [00:00<00:00,  4.73 url/s]\n",
            "Dl Completed...:  75%|███████▌  | 3/4 [00:00<00:00,  4.73 url/s]\n",
            "Dl Completed...:  75%|███████▌  | 3/4 [00:01<00:00,  4.73 url/s]\n",
            "Dl Completed...:  75%|███████▌  | 3/4 [00:01<00:00,  4.73 url/s]\n",
            "Dl Completed...:  75%|███████▌  | 3/4 [00:01<00:00,  4.73 url/s]\n",
            "Dl Completed...:  75%|███████▌  | 3/4 [00:01<00:00,  4.73 url/s]\n",
            "Dl Completed...:  75%|███████▌  | 3/4 [00:01<00:00,  4.73 url/s]\n",
            "Dl Completed...:  75%|███████▌  | 3/4 [00:01<00:00,  4.73 url/s]\n",
            "Dl Completed...:  75%|███████▌  | 3/4 [00:01<00:00,  4.73 url/s]\n",
            "Dl Completed...: 100%|██████████| 4/4 [00:02<00:00,  1.62 url/s]\n",
            "Dl Completed...: 100%|██████████| 4/4 [00:02<00:00,  1.62 url/s]\n",
            "\u001b[A\n",
            "Dl Completed...: 100%|██████████| 4/4 [00:02<00:00,  1.62 url/s]\n",
            "Extraction completed...: 100%|██████████| 4/4 [00:02<00:00,  1.67 file/s]\n",
            "Dl Size...: 100%|██████████| 10/10 [00:02<00:00,  4.18 MiB/s]\n",
            "Dl Completed...: 100%|██████████| 4/4 [00:02<00:00,  1.67 url/s]\n",
            "                                                                        "
          ]
        },
        {
          "name": "stdout",
          "output_type": "stream",
          "text": [
            "\u001b[1mDataset mnist downloaded and prepared to C:\\Users\\Sasha\\tensorflow_datasets\\mnist\\3.0.1. Subsequent calls will reuse this data.\u001b[0m\n"
          ]
        },
        {
          "name": "stderr",
          "output_type": "stream",
          "text": []
        }
      ],
      "source": [
        "(mnist_train, mnist_test), ds_info = tfds.load('mnist', split=['train', 'test'], as_supervised=True, with_info=True)"
      ]
    },
    {
      "cell_type": "code",
      "execution_count": 3,
      "metadata": {
        "id": "9rbPHqECm6IZ"
      },
      "outputs": [],
      "source": [
        "def normalize_img(image, label):\n",
        "  return tf.cast(image, tf.float32) / 255., label\n",
        "\n",
        "def transform_labels(image, label):\n",
        "  return image, tf.math.floor(label / 2)\n",
        "\n",
        "def prepare(ds, shuffle=True, batch_size=32, prefetch=True):\n",
        "  ds = ds.map(normalize_img, num_parallel_calls=tf.data.experimental.AUTOTUNE)\n",
        "  ds = ds.map(transform_labels, num_parallel_calls=tf.data.experimental.AUTOTUNE)\n",
        "  ds = ds.shuffle(ds_info.splits['train'].num_examples) if shuffle else ds\n",
        "  ds = ds.cache()\n",
        "  ds = ds.batch(batch_size)\n",
        "  ds = ds.prefetch(tf.data.experimental.AUTOTUNE) if prefetch else ds\n",
        "  return ds\n",
        "\n",
        "def split_tasks(ds, predicate):\n",
        "  return ds.filter(predicate), ds.filter(lambda img, label: not predicate(img, label))\n",
        "\n",
        "multi_task_train, multi_task_test = prepare(mnist_train), prepare(mnist_test)\n",
        "task_A_train, task_B_train = split_tasks(mnist_train, lambda img, label: label % 2 == 0)\n",
        "task_A_train, task_B_train = prepare(task_A_train), prepare(task_B_train)\n",
        "task_A_test, task_B_test = split_tasks(mnist_test, lambda img, label: label % 2 == 0)\n",
        "task_A_test, task_B_test = prepare(task_A_test), prepare(task_B_test)"
      ]
    },
    {
      "cell_type": "code",
      "execution_count": 5,
      "metadata": {
        "id": "RytilMAmsF7U"
      },
      "outputs": [],
      "source": [
        "def evaluate(model, test_set):\n",
        "  acc = tf.keras.metrics.SparseCategoricalAccuracy(name='accuracy')\n",
        "  for i, (imgs, labels) in enumerate(test_set):\n",
        "    preds = model.predict_on_batch(imgs)\n",
        "    acc.update_state(labels, preds)\n",
        "  return acc.result().numpy()"
      ]
    },
    {
      "cell_type": "code",
      "execution_count": 6,
      "metadata": {
        "colab": {
          "base_uri": "https://localhost:8080/",
          "height": 238
        },
        "id": "UHXeIjPupozX",
        "outputId": "0896b29c-b514-40d0-e08f-be5fbcd8d283"
      },
      "outputs": [
        {
          "name": "stdout",
          "output_type": "stream",
          "text": [
            "Epoch 1/6\n",
            "1875/1875 [==============================] - 9s 2ms/step - loss: 0.2251 - accuracy: 0.9315\n",
            "Epoch 2/6\n",
            "1875/1875 [==============================] - 5s 3ms/step - loss: 0.1024 - accuracy: 0.9688\n",
            "Epoch 3/6\n",
            "1875/1875 [==============================] - 5s 2ms/step - loss: 0.0714 - accuracy: 0.9779\n",
            "Epoch 4/6\n",
            "1875/1875 [==============================] - 4s 2ms/step - loss: 0.0534 - accuracy: 0.9845\n",
            "Epoch 5/6\n",
            "1875/1875 [==============================] - 4s 2ms/step - loss: 0.0404 - accuracy: 0.9886\n",
            "Epoch 6/6\n",
            "1875/1875 [==============================] - 4s 2ms/step - loss: 0.0305 - accuracy: 0.9914\n"
          ]
        },
        {
          "data": {
            "text/plain": [
              "<keras.callbacks.History at 0x256c51aba90>"
            ]
          },
          "execution_count": 6,
          "metadata": {},
          "output_type": "execute_result"
        }
      ],
      "source": [
        "multi_task_model = tf.keras.Sequential([\n",
        "  tf.keras.layers.Flatten(input_shape=(28, 28, 1)),\n",
        "  tf.keras.layers.Dense(128, activation='relu'),\n",
        "  tf.keras.layers.Dense(5)\n",
        "])\n",
        "\n",
        "multi_task_model.compile(optimizer='adam', loss=tf.keras.losses.SparseCategoricalCrossentropy(from_logits=True), metrics='accuracy')\n",
        "\n",
        "multi_task_model.fit(multi_task_train, epochs=6)"
      ]
    },
    {
      "cell_type": "code",
      "execution_count": 7,
      "metadata": {
        "colab": {
          "base_uri": "https://localhost:8080/",
          "height": 51
        },
        "id": "FjeykiFor4-t",
        "outputId": "56e5d7f2-a47d-4dee-aea3-95c76f6c0760"
      },
      "outputs": [
        {
          "name": "stdout",
          "output_type": "stream",
          "text": [
            "Task A accuracy after training on Multi-Task Problem: 0.9748274683952332\n",
            "Task B accuracy after training on Multi-Task Problem: 0.9755616784095764\n"
          ]
        }
      ],
      "source": [
        "print(\"Task A accuracy after training on Multi-Task Problem: {}\".format(evaluate(multi_task_model, task_A_test)))\n",
        "print(\"Task B accuracy after training on Multi-Task Problem: {}\".format(evaluate(multi_task_model, task_B_test)))"
      ]
    },
    {
      "cell_type": "code",
      "execution_count": null,
      "metadata": {
        "colab": {
          "base_uri": "https://localhost:8080/",
          "height": 238
        },
        "id": "CpEix5Nd5rd1",
        "outputId": "0a8da540-de35-4bb4-8d99-07b9ca73db9f"
      },
      "outputs": [
        {
          "name": "stdout",
          "output_type": "stream",
          "text": [
            "Epoch 1/6\n",
            "922/922 [==============================] - 6s 2ms/step - loss: 0.1370 - accuracy: 0.9596\n",
            "Epoch 2/6\n",
            "922/922 [==============================] - 2s 2ms/step - loss: 0.0566 - accuracy: 0.9833\n",
            "Epoch 3/6\n",
            "922/922 [==============================] - 2s 2ms/step - loss: 0.0366 - accuracy: 0.9899\n",
            "Epoch 4/6\n",
            "922/922 [==============================] - 2s 2ms/step - loss: 0.0244 - accuracy: 0.9936\n",
            "Epoch 5/6\n",
            "922/922 [==============================] - 2s 2ms/step - loss: 0.0168 - accuracy: 0.9959\n",
            "Epoch 6/6\n",
            "922/922 [==============================] - 2s 2ms/step - loss: 0.0113 - accuracy: 0.9975\n"
          ]
        },
        {
          "data": {
            "text/plain": [
              "<keras.callbacks.History at 0x25455f00d60>"
            ]
          },
          "execution_count": 8,
          "metadata": {},
          "output_type": "execute_result"
        }
      ],
      "source": [
        "basic_cl_model = tf.keras.Sequential([\n",
        "  tf.keras.layers.Flatten(input_shape=(28, 28, 1)),\n",
        "  tf.keras.layers.Dense(128, activation='relu'),\n",
        "  tf.keras.layers.Dense(5)\n",
        "])\n",
        "\n",
        "basic_cl_model.compile(optimizer='adam', loss=tf.keras.losses.SparseCategoricalCrossentropy(from_logits=True), metrics='accuracy')\n",
        "\n",
        "basic_cl_model.fit(task_A_train, epochs=6)"
      ]
    },
    {
      "cell_type": "code",
      "execution_count": 9,
      "metadata": {
        "colab": {
          "base_uri": "https://localhost:8080/",
          "height": 34
        },
        "id": "D_jy4h0r53TK",
        "outputId": "7d971f09-f895-440e-c3d5-b1a319cfa602"
      },
      "outputs": [
        {
          "name": "stdout",
          "output_type": "stream",
          "text": [
            "Task A accuracy after training model on only Task A: 0.984774649143219\n"
          ]
        }
      ],
      "source": [
        "print(\"Task A accuracy after training model on only Task A: {}\".format(evaluate(basic_cl_model, task_A_test)))"
      ]
    },
    {
      "cell_type": "code",
      "execution_count": 10,
      "metadata": {
        "colab": {
          "base_uri": "https://localhost:8080/",
          "height": 238
        },
        "id": "fdbS2vn06Exs",
        "outputId": "a3bc7a51-afbc-4312-96b6-217d3dbff87d"
      },
      "outputs": [
        {
          "name": "stdout",
          "output_type": "stream",
          "text": [
            "Epoch 1/6\n",
            "954/954 [==============================] - 6s 2ms/step - loss: 0.1919 - accuracy: 0.9497\n",
            "Epoch 2/6\n",
            "954/954 [==============================] - 2s 2ms/step - loss: 0.0654 - accuracy: 0.9802\n",
            "Epoch 3/6\n",
            "954/954 [==============================] - 2s 2ms/step - loss: 0.0438 - accuracy: 0.9870\n",
            "Epoch 4/6\n",
            "954/954 [==============================] - 2s 2ms/step - loss: 0.0310 - accuracy: 0.9913\n",
            "Epoch 5/6\n",
            "954/954 [==============================] - 2s 2ms/step - loss: 0.0218 - accuracy: 0.9940\n",
            "Epoch 6/6\n",
            "954/954 [==============================] - 2s 2ms/step - loss: 0.0155 - accuracy: 0.9966\n"
          ]
        },
        {
          "data": {
            "text/plain": [
              "<keras.callbacks.History at 0x253cd4f8fd0>"
            ]
          },
          "execution_count": 10,
          "metadata": {},
          "output_type": "execute_result"
        }
      ],
      "source": [
        "basic_cl_model.fit(task_B_train, epochs=6)"
      ]
    },
    {
      "cell_type": "code",
      "execution_count": 12,
      "metadata": {
        "colab": {
          "base_uri": "https://localhost:8080/",
          "height": 51
        },
        "id": "VuVi6kBGtMdA",
        "outputId": "e320925a-0532-42d4-873b-18c4b3942857"
      },
      "outputs": [
        {
          "name": "stdout",
          "output_type": "stream",
          "text": [
            "Task B accuracy after training trained model on Task B: 0.9848245978355408\n",
            "Task A accuracy after training trained model on Task B: 0.22107186913490295\n"
          ]
        }
      ],
      "source": [
        "print(\"Task B accuracy after training trained model on Task B: {}\".format(evaluate(basic_cl_model, task_B_test)))\n",
        "print(\"Task A accuracy after training trained model on Task B: {}\".format(evaluate(basic_cl_model, task_A_test)))"
      ]
    },
    {
      "cell_type": "code",
      "execution_count": 13,
      "metadata": {
        "id": "H37gnlDFFoxq"
      },
      "outputs": [],
      "source": [
        "def l2_penalty(theta, theta_A):\n",
        "  penalty = 0\n",
        "  for i, theta_i in enumerate(theta):\n",
        "    _penalty = tf.math.reduce_sum((theta_i - theta_A[i]) ** 2)\n",
        "    penalty += _penalty\n",
        "  return 0.5*penalty\n",
        "\n",
        "def train_with_l2(model, task_A_train, task_B_train, task_A_test, task_B_test, epochs=6):\n",
        "  # First we're going to fit to task A and retain a copy of parameters trained on Task A\n",
        "  model.fit(task_A_train, epochs=epochs)\n",
        "  theta_A = {n: p.value() for n, p in enumerate(model.trainable_variables.copy())}\n",
        "\n",
        "  print(\"Task A accuracy after training on Task A: {}\".format(evaluate(model, task_A_test)))\n",
        "\n",
        "  accuracy = tf.keras.metrics.SparseCategoricalAccuracy('accuracy')\n",
        "  loss = tf.keras.metrics.SparseCategoricalCrossentropy('loss')\n",
        "\n",
        "  for epoch in range(epochs):\n",
        "    accuracy.reset_states()\n",
        "    loss.reset_states()\n",
        "    for batch, (imgs, labels) in enumerate(task_B_train):\n",
        "      with tf.GradientTape() as tape:\n",
        "        preds = model(imgs)\n",
        "        total_loss = model.loss(labels, preds) + l2_penalty(model.trainable_variables, theta_A)\n",
        "      grads = tape.gradient(total_loss, model.trainable_variables)\n",
        "      model.optimizer.apply_gradients(zip(grads, model.trainable_variables))\n",
        "      \n",
        "      accuracy.update_state(labels, preds)\n",
        "      loss.update_state(labels, preds)\n",
        "      print(\"\\rEpoch: {}, Batch: {}, Loss: {:.3f}, Accuracy: {:.3f}\".format(\n",
        "          epoch+1, batch+1, loss.result().numpy(), accuracy.result().numpy()), flush=True, end=''\n",
        "         )\n",
        "    print(\"\")\n",
        "  \n",
        "  print(\"Task B accuracy after training trained model on Task B: {}\".format(evaluate(model, task_B_test)))\n",
        "  print(\"Task A accuracy after training trained model on Task B: {}\".format(evaluate(model, task_A_test)))"
      ]
    },
    {
      "cell_type": "code",
      "execution_count": 14,
      "metadata": {
        "colab": {
          "base_uri": "https://localhost:8080/",
          "height": 374
        },
        "id": "whWs5qLgHykt",
        "outputId": "5b9f98a8-467b-48eb-f9fc-e4b90e020237"
      },
      "outputs": [
        {
          "name": "stdout",
          "output_type": "stream",
          "text": [
            "Epoch 1/6\n",
            "922/922 [==============================] - 2s 2ms/step - loss: 0.1378 - accuracy: 0.9599\n",
            "Epoch 2/6\n",
            "922/922 [==============================] - 2s 2ms/step - loss: 0.0575 - accuracy: 0.9829\n",
            "Epoch 3/6\n",
            "922/922 [==============================] - 2s 2ms/step - loss: 0.0370 - accuracy: 0.9894\n",
            "Epoch 4/6\n",
            "922/922 [==============================] - 2s 2ms/step - loss: 0.0242 - accuracy: 0.9934\n",
            "Epoch 5/6\n",
            "922/922 [==============================] - 2s 2ms/step - loss: 0.0161 - accuracy: 0.9959\n",
            "Epoch 6/6\n",
            "922/922 [==============================] - 2s 2ms/step - loss: 0.0113 - accuracy: 0.9971\n",
            "Task A accuracy after training on Task A: 0.9872106909751892\n",
            "Epoch: 1, Batch: 954, Loss: 4.584, Accuracy: 0.530\n",
            "Epoch: 2, Batch: 954, Loss: 4.460, Accuracy: 0.537\n",
            "Epoch: 3, Batch: 954, Loss: 4.453, Accuracy: 0.537\n",
            "Epoch: 4, Batch: 954, Loss: 4.453, Accuracy: 0.537\n",
            "Epoch: 5, Batch: 954, Loss: 4.453, Accuracy: 0.537\n",
            "Epoch: 6, Batch: 954, Loss: 4.450, Accuracy: 0.537\n",
            "Task B accuracy after training trained model on Task B: 0.536657452583313\n",
            "Task A accuracy after training trained model on Task B: 0.9332115054130554\n"
          ]
        }
      ],
      "source": [
        "l2_model = tf.keras.Sequential([\n",
        "  tf.keras.layers.Flatten(input_shape=(28, 28, 1)),\n",
        "  tf.keras.layers.Dense(128, activation='relu'),\n",
        "  tf.keras.layers.Dense(5)\n",
        "])\n",
        "\n",
        "l2_model.compile(optimizer='adam', loss=tf.keras.losses.SparseCategoricalCrossentropy(from_logits=True), metrics='accuracy')\n",
        "\n",
        "train_with_l2(l2_model, task_A_train, task_B_train, task_A_test, task_B_test)"
      ]
    },
    {
      "cell_type": "code",
      "execution_count": 16,
      "metadata": {
        "id": "Ot_PQvWPSdBu"
      },
      "outputs": [],
      "source": [
        "def compute_precision_matrices(model, task_set, num_batches=1, batch_size=32):\n",
        "  task_set = task_set.repeat()\n",
        "  precision_matrices = {n: tf.zeros_like(p.value()) for n, p in enumerate(model.trainable_variables)}\n",
        "\n",
        "  for i, (imgs, labels) in enumerate(task_set.take(num_batches)):\n",
        "    # We need gradients of model params\n",
        "    with tf.GradientTape() as tape:\n",
        "      # Get model predictions for each image\n",
        "      preds = model(imgs)\n",
        "      # Get the log likelihoods of the predictions\n",
        "      ll = tf.nn.log_softmax(preds)\n",
        "    # Attach gradients of ll to ll_grads\n",
        "    ll_grads = tape.gradient(ll, model.trainable_variables)\n",
        "    # Compute F_i as mean of gradients squared\n",
        "    for i, g in enumerate(ll_grads):\n",
        "      precision_matrices[i] += tf.math.reduce_mean(g ** 2, axis=0) / num_batches\n",
        "\n",
        "  return precision_matrices\n",
        "\n",
        "def compute_elastic_penalty(F, theta, theta_A, alpha=25):\n",
        "  penalty = 0\n",
        "  for i, theta_i in enumerate(theta):\n",
        "    _penalty = tf.math.reduce_sum(F[i] * (theta_i - theta_A[i]) ** 2)\n",
        "    penalty += _penalty\n",
        "  return 0.5*alpha*penalty\n",
        "\n",
        "def ewc_loss(labels, preds, model, F, theta_A):\n",
        "  loss_b = model.loss(labels, preds)\n",
        "  penalty = compute_elastic_penalty(F, model.trainable_variables, theta_A)\n",
        "  return loss_b + penalty\n",
        "\n",
        "def train_with_ewc(model, task_A_set, task_B_set, task_A_test, task_B_test, epochs=3):\n",
        "  # First we're going to fit to task A and retain a copy of parameters trained on Task A\n",
        "  model.fit(task_A_set, epochs=epochs)\n",
        "  theta_A = {n: p.value() for n, p in enumerate(model.trainable_variables.copy())}\n",
        "  # We'll only compute Fisher once, you can do it whenever\n",
        "  F = compute_precision_matrices(model, task_A_set, num_batches=1000)\n",
        "\n",
        "  print(\"Task A accuracy after training on Task A: {}\".format(evaluate(model, task_A_test)))\n",
        "\n",
        "  # Now we set up the training loop for task B with EWC\n",
        "  accuracy = tf.keras.metrics.SparseCategoricalAccuracy('accuracy')\n",
        "  loss = tf.keras.metrics.SparseCategoricalCrossentropy('loss')\n",
        "\n",
        "  for epoch in range(epochs*3):\n",
        "    accuracy.reset_states()\n",
        "    loss.reset_states()\n",
        "\n",
        "    for batch, (imgs, labels) in enumerate(task_B_set):\n",
        "      with tf.GradientTape() as tape:\n",
        "        # Make the predictions\n",
        "        preds = model(imgs)\n",
        "        # Compute EWC loss\n",
        "        total_loss = ewc_loss(labels, preds, model, F, theta_A)\n",
        "      # Compute the gradients of model's trainable parameters wrt total loss\n",
        "      grads = tape.gradient(total_loss, model.trainable_variables)\n",
        "      # Update the model with gradients\n",
        "      model.optimizer.apply_gradients(zip(grads, model.trainable_variables))\n",
        "      # Report updated loss and accuracy\n",
        "      accuracy.update_state(labels, preds)\n",
        "      loss.update_state(labels, preds)\n",
        "      print(\"\\rEpoch: {}, Batch: {}, Loss: {:.3f}, Accuracy: {:.3f}\".format(\n",
        "          epoch+1, batch+1, loss.result().numpy(), accuracy.result().numpy()), flush=True, end=''\n",
        "         )\n",
        "    print(\"\")\n",
        "\n",
        "  print(\"Task B accuracy after training trained model on Task B: {}\".format(evaluate(model, task_B_test)))\n",
        "  print(\"Task A accuracy after training trained model on Task B: {}\".format(evaluate(model, task_A_test)))"
      ]
    },
    {
      "cell_type": "code",
      "execution_count": 17,
      "metadata": {
        "colab": {
          "base_uri": "https://localhost:8080/",
          "height": 323
        },
        "id": "jBcKQvZOmFA-",
        "outputId": "f5b42cf0-1e8e-4d30-d6ff-2802635da0ed"
      },
      "outputs": [
        {
          "name": "stdout",
          "output_type": "stream",
          "text": [
            "Epoch 1/3\n",
            "922/922 [==============================] - 2s 2ms/step - loss: 0.1957 - accuracy: 0.9405\n",
            "Epoch 2/3\n",
            "922/922 [==============================] - 2s 2ms/step - loss: 0.0964 - accuracy: 0.9722\n",
            "Epoch 3/3\n",
            "922/922 [==============================] - 2s 3ms/step - loss: 0.0766 - accuracy: 0.9770\n",
            "Task A accuracy after training on Task A: 0.9825416207313538\n",
            "Epoch: 1, Batch: 954, Loss: 9.363, Accuracy: 0.249\n",
            "Epoch: 2, Batch: 954, Loss: 8.059, Accuracy: 0.391\n",
            "Epoch: 3, Batch: 954, Loss: 7.881, Accuracy: 0.427\n",
            "Epoch: 4, Batch: 954, Loss: 7.817, Accuracy: 0.443\n",
            "Epoch: 5, Batch: 954, Loss: 7.780, Accuracy: 0.453\n",
            "Epoch: 6, Batch: 954, Loss: 7.749, Accuracy: 0.460\n",
            "Epoch: 7, Batch: 954, Loss: 7.733, Accuracy: 0.465\n",
            "Epoch: 8, Batch: 954, Loss: 7.723, Accuracy: 0.469\n",
            "Epoch: 9, Batch: 954, Loss: 7.712, Accuracy: 0.472\n",
            "Task B accuracy after training trained model on Task B: 0.47516751289367676\n",
            "Task A accuracy after training trained model on Task B: 0.5783597230911255\n"
          ]
        }
      ],
      "source": [
        "ewc_model = tf.keras.Sequential([\n",
        "  tf.keras.layers.Flatten(input_shape=(28, 28, 1)),\n",
        "  tf.keras.layers.Dense(128, activation='relu'),\n",
        "  tf.keras.layers.Dropout(0.5),\n",
        "  tf.keras.layers.Dense(5)\n",
        "])\n",
        "\n",
        "ewc_model.compile(optimizer='adam', loss=tf.keras.losses.SparseCategoricalCrossentropy(from_logits=True), metrics='accuracy')\n",
        "\n",
        "train_with_ewc(ewc_model, task_A_train, task_B_train, task_A_test, task_B_test)"
      ]
    },
    {
      "cell_type": "code",
      "execution_count": null,
      "metadata": {
        "id": "tDYZfNhdfOQH"
      },
      "outputs": [],
      "source": []
    }
  ],
  "metadata": {
    "accelerator": "GPU",
    "colab": {
      "collapsed_sections": [],
      "name": "EWC.ipynb",
      "provenance": []
    },
    "interpreter": {
      "hash": "40ea4657e151deccd26e710afdc23502568d00c9dc74ee869c6dd1f0e477bcf5"
    },
    "kernelspec": {
      "display_name": "Python 3.8.12 64-bit ('deepart2': conda)",
      "name": "python3"
    },
    "language_info": {
      "codemirror_mode": {
        "name": "ipython",
        "version": 3
      },
      "file_extension": ".py",
      "mimetype": "text/x-python",
      "name": "python",
      "nbconvert_exporter": "python",
      "pygments_lexer": "ipython3",
      "version": "3.8.12"
    },
    "widgets": {
      "application/vnd.jupyter.widget-state+json": {
        "3b33a21378914482af0eb86c3c8e36bc": {
          "model_module": "@jupyter-widgets/controls",
          "model_name": "FloatProgressModel",
          "state": {
            "_dom_classes": [],
            "_model_module": "@jupyter-widgets/controls",
            "_model_module_version": "1.5.0",
            "_model_name": "FloatProgressModel",
            "_view_count": null,
            "_view_module": "@jupyter-widgets/controls",
            "_view_module_version": "1.5.0",
            "_view_name": "ProgressView",
            "bar_style": "success",
            "description": "Dl Completed...: 100%",
            "description_tooltip": null,
            "layout": "IPY_MODEL_55b5ed2eb70140bdb25c3252474e41ea",
            "max": 4,
            "min": 0,
            "orientation": "horizontal",
            "style": "IPY_MODEL_bf46d2c14807421a9185f6591fc98e8a",
            "value": 4
          }
        },
        "408617dfa95448ca8db3843483f51f94": {
          "model_module": "@jupyter-widgets/base",
          "model_name": "LayoutModel",
          "state": {
            "_model_module": "@jupyter-widgets/base",
            "_model_module_version": "1.2.0",
            "_model_name": "LayoutModel",
            "_view_count": null,
            "_view_module": "@jupyter-widgets/base",
            "_view_module_version": "1.2.0",
            "_view_name": "LayoutView",
            "align_content": null,
            "align_items": null,
            "align_self": null,
            "border": null,
            "bottom": null,
            "display": null,
            "flex": null,
            "flex_flow": null,
            "grid_area": null,
            "grid_auto_columns": null,
            "grid_auto_flow": null,
            "grid_auto_rows": null,
            "grid_column": null,
            "grid_gap": null,
            "grid_row": null,
            "grid_template_areas": null,
            "grid_template_columns": null,
            "grid_template_rows": null,
            "height": null,
            "justify_content": null,
            "justify_items": null,
            "left": null,
            "margin": null,
            "max_height": null,
            "max_width": null,
            "min_height": null,
            "min_width": null,
            "object_fit": null,
            "object_position": null,
            "order": null,
            "overflow": null,
            "overflow_x": null,
            "overflow_y": null,
            "padding": null,
            "right": null,
            "top": null,
            "visibility": null,
            "width": null
          }
        },
        "4d68047621494322b3f3c9b5f720c497": {
          "model_module": "@jupyter-widgets/controls",
          "model_name": "HTMLModel",
          "state": {
            "_dom_classes": [],
            "_model_module": "@jupyter-widgets/controls",
            "_model_module_version": "1.5.0",
            "_model_name": "HTMLModel",
            "_view_count": null,
            "_view_module": "@jupyter-widgets/controls",
            "_view_module_version": "1.5.0",
            "_view_name": "HTMLView",
            "description": "",
            "description_tooltip": null,
            "layout": "IPY_MODEL_408617dfa95448ca8db3843483f51f94",
            "placeholder": "​",
            "style": "IPY_MODEL_a3a1fe12fb6246d28c50383a49956194",
            "value": " 4/4 [00:06&lt;00:00,  1.64s/ file]"
          }
        },
        "55b5ed2eb70140bdb25c3252474e41ea": {
          "model_module": "@jupyter-widgets/base",
          "model_name": "LayoutModel",
          "state": {
            "_model_module": "@jupyter-widgets/base",
            "_model_module_version": "1.2.0",
            "_model_name": "LayoutModel",
            "_view_count": null,
            "_view_module": "@jupyter-widgets/base",
            "_view_module_version": "1.2.0",
            "_view_name": "LayoutView",
            "align_content": null,
            "align_items": null,
            "align_self": null,
            "border": null,
            "bottom": null,
            "display": null,
            "flex": null,
            "flex_flow": null,
            "grid_area": null,
            "grid_auto_columns": null,
            "grid_auto_flow": null,
            "grid_auto_rows": null,
            "grid_column": null,
            "grid_gap": null,
            "grid_row": null,
            "grid_template_areas": null,
            "grid_template_columns": null,
            "grid_template_rows": null,
            "height": null,
            "justify_content": null,
            "justify_items": null,
            "left": null,
            "margin": null,
            "max_height": null,
            "max_width": null,
            "min_height": null,
            "min_width": null,
            "object_fit": null,
            "object_position": null,
            "order": null,
            "overflow": null,
            "overflow_x": null,
            "overflow_y": null,
            "padding": null,
            "right": null,
            "top": null,
            "visibility": null,
            "width": null
          }
        },
        "a1a68ae83dc84600a420cceec08f8316": {
          "model_module": "@jupyter-widgets/controls",
          "model_name": "HBoxModel",
          "state": {
            "_dom_classes": [],
            "_model_module": "@jupyter-widgets/controls",
            "_model_module_version": "1.5.0",
            "_model_name": "HBoxModel",
            "_view_count": null,
            "_view_module": "@jupyter-widgets/controls",
            "_view_module_version": "1.5.0",
            "_view_name": "HBoxView",
            "box_style": "",
            "children": [
              "IPY_MODEL_3b33a21378914482af0eb86c3c8e36bc",
              "IPY_MODEL_4d68047621494322b3f3c9b5f720c497"
            ],
            "layout": "IPY_MODEL_d6baeac1b27743659e269b585e304522"
          }
        },
        "a3a1fe12fb6246d28c50383a49956194": {
          "model_module": "@jupyter-widgets/controls",
          "model_name": "DescriptionStyleModel",
          "state": {
            "_model_module": "@jupyter-widgets/controls",
            "_model_module_version": "1.5.0",
            "_model_name": "DescriptionStyleModel",
            "_view_count": null,
            "_view_module": "@jupyter-widgets/base",
            "_view_module_version": "1.2.0",
            "_view_name": "StyleView",
            "description_width": ""
          }
        },
        "bf46d2c14807421a9185f6591fc98e8a": {
          "model_module": "@jupyter-widgets/controls",
          "model_name": "ProgressStyleModel",
          "state": {
            "_model_module": "@jupyter-widgets/controls",
            "_model_module_version": "1.5.0",
            "_model_name": "ProgressStyleModel",
            "_view_count": null,
            "_view_module": "@jupyter-widgets/base",
            "_view_module_version": "1.2.0",
            "_view_name": "StyleView",
            "bar_color": null,
            "description_width": "initial"
          }
        },
        "d6baeac1b27743659e269b585e304522": {
          "model_module": "@jupyter-widgets/base",
          "model_name": "LayoutModel",
          "state": {
            "_model_module": "@jupyter-widgets/base",
            "_model_module_version": "1.2.0",
            "_model_name": "LayoutModel",
            "_view_count": null,
            "_view_module": "@jupyter-widgets/base",
            "_view_module_version": "1.2.0",
            "_view_name": "LayoutView",
            "align_content": null,
            "align_items": null,
            "align_self": null,
            "border": null,
            "bottom": null,
            "display": null,
            "flex": null,
            "flex_flow": null,
            "grid_area": null,
            "grid_auto_columns": null,
            "grid_auto_flow": null,
            "grid_auto_rows": null,
            "grid_column": null,
            "grid_gap": null,
            "grid_row": null,
            "grid_template_areas": null,
            "grid_template_columns": null,
            "grid_template_rows": null,
            "height": null,
            "justify_content": null,
            "justify_items": null,
            "left": null,
            "margin": null,
            "max_height": null,
            "max_width": null,
            "min_height": null,
            "min_width": null,
            "object_fit": null,
            "object_position": null,
            "order": null,
            "overflow": null,
            "overflow_x": null,
            "overflow_y": null,
            "padding": null,
            "right": null,
            "top": null,
            "visibility": null,
            "width": null
          }
        }
      }
    }
  },
  "nbformat": 4,
  "nbformat_minor": 0
}
