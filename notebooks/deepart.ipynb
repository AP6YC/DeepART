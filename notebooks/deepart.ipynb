{
 "cells": [
  {
   "cell_type": "markdown",
   "metadata": {},
   "source": [
    "# DeepART Dev Notebook"
   ]
  },
  {
   "cell_type": "code",
   "execution_count": 2,
   "metadata": {},
   "outputs": [
    {
     "name": "stderr",
     "output_type": "stream",
     "text": [
      "/Users/sashapetrenko/miniforge3/envs/deepart/lib/python3.11/site-packages/tqdm/auto.py:21: TqdmWarning: IProgress not found. Please update jupyter and ipywidgets. See https://ipywidgets.readthedocs.io/en/stable/user_install.html\n",
      "  from .autonotebook import tqdm as notebook_tqdm\n",
      "/Users/sashapetrenko/miniforge3/envs/deepart/lib/python3.11/site-packages/torchvision/io/image.py:14: UserWarning: Failed to load image Python extension: 'dlopen(/Users/sashapetrenko/miniforge3/envs/deepart/lib/python3.11/site-packages/torchvision/image.so, 0x0006): Library not loaded: @rpath/libjpeg.9.dylib\n",
      "  Referenced from: <BFAC0362-079C-3D60-A731-79532A75BA60> /Users/sashapetrenko/miniforge3/envs/deepart/lib/python3.11/site-packages/torchvision/image.so\n",
      "  Reason: tried: '/Users/sashapetrenko/miniforge3/envs/deepart/lib/python3.11/site-packages/torchvision/../../../libjpeg.9.dylib' (no such file), '/Users/sashapetrenko/miniforge3/envs/deepart/lib/python3.11/site-packages/torchvision/../../../libjpeg.9.dylib' (no such file), '/Users/sashapetrenko/miniforge3/envs/deepart/lib/python3.11/lib-dynload/../../libjpeg.9.dylib' (no such file), '/Users/sashapetrenko/miniforge3/envs/deepart/bin/../lib/libjpeg.9.dylib' (no such file)'If you don't plan on using image functionality from `torchvision.io`, you can ignore this warning. Otherwise, there might be something wrong with your environment. Did you have `libjpeg` or `libpng` installed before building `torchvision` from source?\n",
      "  warn(\n"
     ]
    }
   ],
   "source": [
    "import torch\n",
    "import torch.nn as nn\n",
    "\n",
    "import logging\n",
    "from abc import ABC, abstractmethod\n",
    "from typing import List, Tuple, Dict, Any\n",
    "from tqdm.auto import tqdm\n",
    "\n",
    "import torch\n",
    "import torch.nn as nn\n",
    "import torch.nn.functional as F\n",
    "from torchvision import datasets, transforms\n",
    "from torch.utils.data import DataLoader\n",
    "\n",
    "from sklearn.manifold import TSNE\n",
    "import matplotlib.pyplot as plt\n",
    "from matplotlib import ticker\n",
    "%matplotlib inline"
   ]
  },
  {
   "cell_type": "code",
   "execution_count": 61,
   "metadata": {},
   "outputs": [
    {
     "name": "stdout",
     "output_type": "stream",
     "text": [
      "Using mps device\n"
     ]
    }
   ],
   "source": [
    "# device = torch.device(\"mps\")\n",
    "device = torch.accelerator.current_accelerator().type if torch.accelerator.is_available() else \"cpu\"\n",
    "print(f\"Using {device} device\")"
   ]
  },
  {
   "cell_type": "code",
   "execution_count": 62,
   "metadata": {},
   "outputs": [],
   "source": [
    "# model: torch.nn.Module\n",
    "class LocalUpdate(ABC):\n",
    "\n",
    "    def __init__(self):\n",
    "        self.logger = logging.getLogger(\n",
    "            f\"{__name__}-{self.__class__.__name__}\"\n",
    "        )\n",
    "\n",
    "    @abstractmethod\n",
    "    def update(\n",
    "        self,\n",
    "        x: torch.Tensor,\n",
    "        w: torch.Tensor,\n",
    "    ):\n",
    "        pass"
   ]
  },
  {
   "cell_type": "code",
   "execution_count": null,
   "metadata": {},
   "outputs": [],
   "source": [
    "# Alternative\n",
    "class Hebb(LocalUpdate):\n",
    "    \"\"\"\n",
    "    Implements a local Hebbian weight update rule:\n",
    "    Δw_ij = eta * y_i * x_j\n",
    "    where y_i is the output, x_j is the input, and eta is the learning rate.\n",
    "    \"\"\"\n",
    "\n",
    "    def __init__(self, eta=0.01):\n",
    "        super().__init__()\n",
    "        self.eta = eta\n",
    "        self.previous = []\n",
    "\n",
    "    def update_model(\n",
    "        self,\n",
    "        x: torch.Tensor,\n",
    "        y: torch.Tensor,\n",
    "        model: nn.Sequential,\n",
    "    ):\n",
    "        ox = x\n",
    "        activations = []\n",
    "        for layer in model:\n",
    "            x = layer(x)\n",
    "            activations.append(x)\n",
    "\n",
    "        inputs = [ox] + (activations[:-1])\n",
    "        n_layers = len(model) - 1\n",
    "        for ix, layer in enumerate(model):\n",
    "            if hasattr(layer, \"weight\"):\n",
    "                if ix == n_layers:\n",
    "                    dW = self.wh_update(inputs[ix], activations[ix], layer.weight, y)\n",
    "                    layer.weight += dW\n",
    "                else:\n",
    "                    dW = self.update(inputs[ix], activations[ix], layer.weight)\n",
    "                    layer.weight += dW\n",
    "\n",
    "    def wh_update(\n",
    "        self,\n",
    "        x: torch.Tensor,  # shape: (batch_size, input_dim)\n",
    "        y: torch.Tensor,\n",
    "        w: torch.Tensor,   # shape: (output_dim, input_dim)\n",
    "        target: torch.tensor\n",
    "    ):\n",
    "        # OPTION 1: ZIP\n",
    "        # d_ws = torch.zeros(x.size(0), *w.shape)\n",
    "        # for idx, (x_sample, ys, targets) in enumerate(zip(x, y, target)):\n",
    "        #     d_w = self.eta * torch.outer(targets - ys, x_sample)  # shape: (output_dim, input_dim)\n",
    "        #     # d_w = 0.1 * torch.outer(targets - ys, x_sample)  # shape: (output_dim, input_dim)\n",
    "        #     # torch.einsum('bp,bqr->bpqr', v, M) # batch-wise operation v.shape=(b,p) M.shape=(b,q,r)\n",
    "        #     # torch.einsum('p,qr->pqr', v, M)    # cross-batch operation\n",
    "\n",
    "        #     d_ws[idx] = d_w\n",
    "        # OPTION 2: EINSUM\n",
    "        d_ws = self.eta * torch.einsum('bp,bq->bpq', (target-y), x)\n",
    "\n",
    "        return torch.mean(d_ws, dim=0)\n",
    "\n",
    "    def update(\n",
    "        self,\n",
    "        x: torch.Tensor,  # shape: (batch_size, input_dim)\n",
    "        y: torch.Tensor,\n",
    "        w: torch.Tensor   # shape: (output_dim, input_dim)\n",
    "    ):\n",
    "        # OPTION 1: ZIP\n",
    "        # Allocate weight update for each sample\n",
    "        # d_ws = torch.zeros(x.size(0), *w.shape).to(device)\n",
    "        # d_ws = torch.zeros(x.size(0), *w.shape)\n",
    "        # for idx, (x_sample, ys) in enumerate(zip(x, y)):\n",
    "        #     # d_w = self.eta * torch.outer(ys, x_sample - ys @ w)  # shape: (output_dim, input_dim)\n",
    "        #     d_w = self.eta * torch.outer(ys, x_sample - ys @ w)  # shape: (output_dim, input_dim)\n",
    "        #     d_ws[idx] = d_w\n",
    "\n",
    "        # OPTION 2: EINSUM\n",
    "        d_ws = self.eta * torch.einsum('bp,bq->bpq', y, x - y @ w)  # shape: (output_dim, input_dim)\n",
    "\n",
    "        return torch.mean(d_ws, dim=0)\n",
    "\n",
    "# Define a simple single-layer network (for demonstration)\n",
    "class SimpleHebbNet(nn.Module):\n",
    "    def __init__(self, input_dim, output_dim):\n",
    "        super().__init__()\n",
    "        nh = 100\n",
    "        nh2 = 50\n",
    "        self.fc = nn.Sequential(\n",
    "            nn.Linear(input_dim, nh, bias=False),\n",
    "            # nn.Sigmoid(),\n",
    "            # nn.SiLU(),\n",
    "            # nn.ReLU6(),\n",
    "            nn.Tanh(),\n",
    "\n",
    "            nn.Linear(nh, nh2, bias=False),\n",
    "            # nn.Sigmoid(),\n",
    "            # nn.SiLU(),\n",
    "            # nn.ReLU6(),\n",
    "            nn.Tanh(),\n",
    "\n",
    "            nn.Linear(nh2, output_dim, bias=False),\n",
    "            # nn.ReLU6(),\n",
    "        )\n",
    "        for p in self.fc.parameters():\n",
    "            p.requires_grad = False\n",
    "\n",
    "        # self.fc[-1].weight.uniform_()\n",
    "        return\n",
    "\n",
    "    def forward(self, x):\n",
    "        return self.fc(x)\n",
    "\n",
    "# Prepare MNIST data (flattened)\n",
    "transform = transforms.Compose([\n",
    "    transforms.ToTensor(),\n",
    "    transforms.Lambda(lambda x: x.view(-1))  # flatten\n",
    "])"
   ]
  },
  {
   "cell_type": "code",
   "execution_count": 92,
   "metadata": {},
   "outputs": [
    {
     "data": {
      "text/plain": [
       "tensor([0., 0., 0., 0., 0., 1., 0., 0., 0., 0.])"
      ]
     },
     "execution_count": 92,
     "metadata": {},
     "output_type": "execute_result"
    }
   ],
   "source": [
    "# mnist_train = datasets.MNIST(root='./data', train=True, download=True, transform=transform,\n",
    "mnist_train = datasets.USPS(root='./data', train=True, download=True, transform=transform,\n",
    "    target_transform=transforms.Lambda(lambda y: torch.zeros(10, dtype=torch.float).scatter_(0, torch.tensor(y), value=1))\n",
    "    # target_transform=transforms.Compose([\n",
    "    #     transforms.ToTensor(),\n",
    "    #     transforms.Lambda(lambda y: F.one_hot(y, num_classes=10)),\n",
    "    # ])\n",
    ")\n",
    "# loader = DataLoader(mnist_train, batch_size=32, shuffle=True)\n",
    "loader = DataLoader(mnist_train, batch_size=1024, shuffle=True)\n",
    "\n",
    "# Prepare MNIST test data\n",
    "# mnist_test = datasets.MNIST(root='./data', train=False, download=True, transform=transform)\n",
    "mnist_test = datasets.USPS(root='./data', train=False, download=True, transform=transform)\n",
    "test_loader = DataLoader(mnist_test, batch_size=128, shuffle=False)\n",
    "\n",
    "# Instantiate model and Hebbian updater\n",
    "# input_dim = 28 * 28\n",
    "input_dim = 16 * 16\n",
    "output_dim = 10\n",
    "model = SimpleHebbNet(input_dim, output_dim)\n",
    "hebb_updater = Hebb(eta=0.05)\n",
    "\n",
    "# GPU = False\n",
    "GPU = True\n",
    "\n",
    "if GPU:\n",
    "    model = model.to(device)\n",
    "\n",
    "# model.fc[-1].weight\n",
    "# a = torch.randn((1, 10))\n",
    "# b = torch.randn((1, 50))\n",
    "# c = torch.randn((1, 10))\n",
    "# d = torch.einsum('bp,bq->bpq', (a-c), b)\n",
    "# d.shape\n",
    "\n",
    "mnist_train[1][0].max()\n",
    "mnist_train[1][0].shape\n",
    "mnist_train[1][1]\n"
   ]
  },
  {
   "cell_type": "code",
   "execution_count": null,
   "metadata": {},
   "outputs": [
    {
     "name": "stderr",
     "output_type": "stream",
     "text": [
      "100%|██████████| 8/8 [00:00<00:00, 55.96it/s]\n",
      "100%|██████████| 8/8 [00:00<00:00, 60.71it/s]\n",
      "100%|██████████| 8/8 [00:00<00:00, 62.08it/s]\n",
      "100%|██████████| 8/8 [00:00<00:00, 62.09it/s]\n",
      "100%|██████████| 8/8 [00:00<00:00, 61.48it/s]\n",
      "100%|██████████| 8/8 [00:00<00:00, 62.77it/s]\n",
      "100%|██████████| 8/8 [00:00<00:00, 57.39it/s]\n",
      "100%|██████████| 8/8 [00:00<00:00, 61.12it/s]\n",
      "100%|██████████| 8/8 [00:00<00:00, 61.60it/s]\n",
      "100%|██████████| 8/8 [00:00<00:00, 60.38it/s]\n",
      "100%|██████████| 8/8 [00:00<00:00, 58.13it/s]\n",
      "100%|██████████| 8/8 [00:00<00:00, 60.19it/s]\n",
      "100%|██████████| 8/8 [00:00<00:00, 61.35it/s]\n",
      "100%|██████████| 8/8 [00:00<00:00, 61.73it/s]\n",
      "100%|██████████| 8/8 [00:00<00:00, 60.45it/s]\n",
      "100%|██████████| 8/8 [00:00<00:00, 37.89it/s]\n",
      "100%|██████████| 8/8 [00:00<00:00, 58.82it/s]\n",
      "100%|██████████| 8/8 [00:00<00:00, 58.94it/s]\n",
      "100%|██████████| 8/8 [00:00<00:00, 59.18it/s]\n",
      "100%|██████████| 8/8 [00:00<00:00, 60.56it/s]\n",
      "100%|██████████| 8/8 [00:00<00:00, 61.12it/s]\n",
      "100%|██████████| 8/8 [00:00<00:00, 60.83it/s]\n",
      "100%|██████████| 8/8 [00:00<00:00, 61.75it/s]\n",
      "100%|██████████| 8/8 [00:00<00:00, 61.41it/s]\n",
      "100%|██████████| 8/8 [00:00<00:00, 61.18it/s]\n",
      "100%|██████████| 8/8 [00:00<00:00, 60.68it/s]\n",
      "100%|██████████| 8/8 [00:00<00:00, 59.78it/s]\n",
      "100%|██████████| 8/8 [00:00<00:00, 61.09it/s]\n",
      "100%|██████████| 8/8 [00:00<00:00, 61.57it/s]\n",
      "100%|██████████| 8/8 [00:00<00:00, 60.40it/s]\n",
      "100%|██████████| 8/8 [00:00<00:00, 61.03it/s]\n",
      "100%|██████████| 8/8 [00:00<00:00, 60.01it/s]\n",
      "100%|██████████| 8/8 [00:00<00:00, 58.49it/s]\n",
      "100%|██████████| 8/8 [00:00<00:00, 57.82it/s]\n",
      "100%|██████████| 8/8 [00:00<00:00, 58.63it/s]\n",
      "100%|██████████| 8/8 [00:00<00:00, 37.25it/s]\n",
      "100%|██████████| 8/8 [00:00<00:00, 59.68it/s]\n",
      "100%|██████████| 8/8 [00:00<00:00, 58.45it/s]\n",
      "100%|██████████| 8/8 [00:00<00:00, 59.31it/s]\n",
      "100%|██████████| 8/8 [00:00<00:00, 59.24it/s]\n",
      "100%|██████████| 8/8 [00:00<00:00, 58.69it/s]\n",
      "100%|██████████| 8/8 [00:00<00:00, 59.35it/s]\n",
      "100%|██████████| 8/8 [00:00<00:00, 59.39it/s]\n",
      "100%|██████████| 8/8 [00:00<00:00, 60.14it/s]\n",
      "100%|██████████| 8/8 [00:00<00:00, 58.44it/s]\n",
      "100%|██████████| 8/8 [00:00<00:00, 59.12it/s]\n",
      "100%|██████████| 8/8 [00:00<00:00, 57.08it/s]\n",
      "100%|██████████| 8/8 [00:00<00:00, 58.11it/s]\n",
      "100%|██████████| 8/8 [00:00<00:00, 59.41it/s]\n",
      "100%|██████████| 8/8 [00:00<00:00, 59.43it/s]\n"
     ]
    }
   ],
   "source": [
    "def test(model, test_loader, toprint=False):\n",
    "    model.eval()\n",
    "    correct = 0\n",
    "    total = 0\n",
    "    with torch.no_grad():\n",
    "        for data, target in test_loader:\n",
    "\n",
    "            if GPU:\n",
    "                data = data.to(device)\n",
    "                target = target.to(device)\n",
    "\n",
    "            output = model(data)\n",
    "            pred = output.argmax(dim=1)\n",
    "            correct += (pred == target).sum().item()\n",
    "            total += target.size(0)\n",
    "    accuracy = correct / total\n",
    "    if toprint:\n",
    "        print(f\"Test accuracy: {accuracy:.4f}\")\n",
    "    return accuracy\n",
    "\n",
    "perfs = []\n",
    "n_epochs = 50\n",
    "for ie in range(50):\n",
    "    for data, target in tqdm(loader):\n",
    "        if GPU:\n",
    "            data = data.to(device)\n",
    "            target = target.to(device)\n",
    "        hebb_updater.update_model(data, target, model.fc)\n",
    "    perfs.append(test(model, test_loader))\n"
   ]
  },
  {
   "cell_type": "code",
   "execution_count": 94,
   "metadata": {},
   "outputs": [
    {
     "data": {
      "text/plain": [
       "[<matplotlib.lines.Line2D at 0x32f423bd0>]"
      ]
     },
     "execution_count": 94,
     "metadata": {},
     "output_type": "execute_result"
    },
    {
     "data": {
      "image/png": "[encoded data removed]",
      "text/plain": [
       "<Figure size 640x480 with 1 Axes>"
      ]
     },
     "metadata": {},
     "output_type": "display_data"
    }
   ],
   "source": [
    "plt.plot(range(n_epochs), perfs)"
   ]
  },
  {
   "cell_type": "code",
   "execution_count": 95,
   "metadata": {},
   "outputs": [
    {
     "name": "stdout",
     "output_type": "stream",
     "text": [
      "Test accuracy: 0.8226\n"
     ]
    },
    {
     "data": {
      "text/plain": [
       "0.8226208271051321"
      ]
     },
     "execution_count": 95,
     "metadata": {},
     "output_type": "execute_result"
    }
   ],
   "source": [
    "test(model, test_loader, toprint=True)"
   ]
  },
  {
   "cell_type": "code",
   "execution_count": 80,
   "metadata": {},
   "outputs": [],
   "source": [
    "def get_points(model, test_loader):\n",
    "    model.eval()\n",
    "    outputs = []\n",
    "    targets = []\n",
    "    with torch.no_grad():\n",
    "        for data, target in test_loader:\n",
    "            if GPU:\n",
    "                data = data.to(device)\n",
    "                target = target.to(device)\n",
    "\n",
    "            output = model(data)\n",
    "            outputs.append(output)\n",
    "            targets.append(target)\n",
    "\n",
    "    outputs = torch.cat(outputs)\n",
    "    targets = torch.cat(targets)\n",
    "    if GPU:\n",
    "        outputs = outputs.to(\"cpu\")\n",
    "        targets = targets.to(\"cpu\")\n",
    "    return outputs, targets\n",
    "\n",
    "def add_2d_scatter(ax, points, colors, title=None):\n",
    "    x, y = points.T\n",
    "    ax.scatter(x, y, s=50, c=colors, alpha=0.8)\n",
    "    ax.set_title(title)\n",
    "    ax.xaxis.set_major_formatter(ticker.NullFormatter())\n",
    "    ax.yaxis.set_major_formatter(ticker.NullFormatter())\n",
    "\n",
    "def plot_2d(points, colors, title):\n",
    "    fig, ax = plt.subplots(figsize=(3, 3), facecolor=\"white\", constrained_layout=True)\n",
    "    fig.suptitle(title, size=16)\n",
    "    add_2d_scatter(ax, points, colors)\n",
    "    plt.show()\n",
    "\n",
    "x, y = get_points(model, test_loader)"
   ]
  },
  {
   "cell_type": "code",
   "execution_count": 81,
   "metadata": {},
   "outputs": [],
   "source": [
    "t_sne = TSNE(\n",
    "    n_components=2,\n",
    "    perplexity=30,\n",
    "    init=\"random\",\n",
    "    max_iter=250,\n",
    "    random_state=0,\n",
    ")\n",
    "\n",
    "x, y = get_points(model, test_loader)\n",
    "\n",
    "S_t_sne = t_sne.fit_transform(x)"
   ]
  },
  {
   "cell_type": "code",
   "execution_count": 82,
   "metadata": {},
   "outputs": [
    {
     "data": {
      "image/png": "[encoded data removed]",
      "text/plain": [
       "<Figure size 300x300 with 1 Axes>"
      ]
     },
     "metadata": {},
     "output_type": "display_data"
    }
   ],
   "source": [
    "cmap = plt.get_cmap('tab10')\n",
    "colors = [cmap(i) for i in y]\n",
    "plot_2d(S_t_sne, colors, \"T-distributed Stochastic  \\n Neighbor Embedding\")"
   ]
  },
  {
   "cell_type": "code",
   "execution_count": 96,
   "metadata": {},
   "outputs": [
    {
     "data": {
      "text/plain": [
       "tensor([4, 6, 3, 4, 6, 0, 0, 0, 6, 9, 6, 2, 3, 4, 0, 3, 1, 2, 9, 6, 2, 2, 4, 4,\n",
       "        6, 2, 0, 3, 0, 3, 7, 0, 5, 0, 7, 9, 0, 0, 0, 7, 0, 0, 1, 0, 7, 1, 0, 8,\n",
       "        2, 0, 0, 5, 1, 0, 0, 6, 5, 9, 2, 0, 9, 0, 4, 7, 0, 4, 1, 2, 2, 1, 8, 3,\n",
       "        7, 2, 0, 9, 0, 1, 2, 1, 2, 0, 7, 2, 0, 6, 7, 2, 2, 0, 9, 0, 1, 8, 2, 0,\n",
       "        7, 0, 0, 9, 0, 0, 7, 3, 0, 7, 2, 5, 7, 9, 3, 3, 9, 9, 7, 0, 5, 9, 9, 6,\n",
       "        8, 5, 7, 0, 6, 8, 6, 6], device='mps:0')"
      ]
     },
     "execution_count": 96,
     "metadata": {},
     "output_type": "execute_result"
    }
   ],
   "source": [
    "data, target = next(iter(test_loader))\n",
    "if GPU:\n",
    "    data = data.to(device)\n",
    "    target = target.to(device)\n",
    "\n",
    "output = model(data)\n",
    "# output\n",
    "pred = output.argmax(dim=1)\n",
    "pred\n",
    "# output"
   ]
  },
  {
   "cell_type": "code",
   "execution_count": 97,
   "metadata": {},
   "outputs": [
    {
     "data": {
      "text/plain": [
       "tensor([ 0.1563,  0.0421,  0.2453, -0.0671,  0.3685, -0.0331,  0.5177, -0.0104,\n",
       "        -0.1701, -0.0891], device='mps:0')"
      ]
     },
     "execution_count": 97,
     "metadata": {},
     "output_type": "execute_result"
    }
   ],
   "source": [
    "output[1]"
   ]
  },
  {
   "cell_type": "code",
   "execution_count": 99,
   "metadata": {},
   "outputs": [
    {
     "name": "stdout",
     "output_type": "stream",
     "text": [
      "5\n",
      "torch.Size([100])\n"
     ]
    }
   ],
   "source": [
    "x, ix = next(iter(loader))\n",
    "x = x[0]\n",
    "ox = x\n",
    "activations = []\n",
    "if GPU:\n",
    "    x = x.to(device)\n",
    "for layer in model.fc:\n",
    "    x = layer(x)\n",
    "    activations.append(x)\n",
    "\n",
    "print(len(activations))\n",
    "print(activations[0].shape)\n",
    "ins = [ox] + (activations[:-1])"
   ]
  }
 ],
 "metadata": {
  "kernelspec": {
   "display_name": "deepart",
   "language": "python",
   "name": "python3"
  },
  "language_info": {
   "codemirror_mode": {
    "name": "ipython",
    "version": 3
   },
   "file_extension": ".py",
   "mimetype": "text/x-python",
   "name": "python",
   "nbconvert_exporter": "python",
   "pygments_lexer": "ipython3",
   "version": "3.11.11"
  }
 },
 "nbformat": 4,
 "nbformat_minor": 2
}
