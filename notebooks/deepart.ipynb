{
 "cells": [
  {
   "cell_type": "markdown",
   "metadata": {},
   "source": [
    "# DeepART Dev Notebook"
   ]
  },
  {
   "cell_type": "code",
   "execution_count": 4,
   "metadata": {},
   "outputs": [],
   "source": [
    "import torch\n",
    "\n",
    "import logging\n",
    "from abc import ABC, abstractmethod\n",
    "from typing import List, Tuple, Dict, Any"
   ]
  },
  {
   "cell_type": "code",
   "execution_count": null,
   "metadata": {},
   "outputs": [],
   "source": [
    "# model: torch.nn.Module\n",
    "class LocalUpdate(ABC):\n",
    "\n",
    "    def __init__(self):\n",
    "        self.logger = logging.getLogger(\n",
    "            f\"{__name__}-{self.__class__.__name__}\"\n",
    "        )\n",
    "\n",
    "    @abstractmethod\n",
    "    def update(\n",
    "        self,\n",
    "        x: torch.Tensor,\n",
    "        w: torch.Tensor,\n",
    "    ):\n",
    "        pass"
   ]
  },
  {
   "cell_type": "code",
   "execution_count": null,
   "metadata": {},
   "outputs": [],
   "source": [
    "class Oja(LocalUpdate):\n",
    "\n",
    "    def __init__(self,\n",
    "        eta=0.1\n",
    "    ):\n",
    "        super().__init__()\n",
    "        self.eta = eta\n",
    "\n",
    "    def update(self,\n",
    "        x: torch.Tensor,\n",
    "        w: torch.Tensor,\n",
    "    ):\n",
    "        # Allocate weight update for each sample\n",
    "        d_ws = torch.zeros(x.size(0), *w.shape)\n",
    "        for idx, x in enumerate(x):\n",
    "            # Allocate weight update\n",
    "            d_w = torch.zeros(w.shape)\n",
    "            # Compute the outputs\n",
    "            y = torch.matmul(w, x.unsqueeze(1))\n",
    "            # Iterate over the outputs\n",
    "            for i in range(y.shape[0]):\n",
    "                for j in range(x.shape[0]):\n",
    "                    # Oja's rule\n",
    "                    d_w[i, j] = self.eta * y[i] * (x[j] - y[i] * w[i, j])\n",
    "            d_ws[idx] = d_w\n",
    "\n",
    "        return torch.mean(d_ws, dim=0)"
   ]
  }
 ],
 "metadata": {
  "kernelspec": {
   "display_name": "deepart",
   "language": "python",
   "name": "python3"
  },
  "language_info": {
   "codemirror_mode": {
    "name": "ipython",
    "version": 3
   },
   "file_extension": ".py",
   "mimetype": "text/x-python",
   "name": "python",
   "nbconvert_exporter": "python",
   "pygments_lexer": "ipython3",
   "version": "3.11.11"
  }
 },
 "nbformat": 4,
 "nbformat_minor": 2
}
