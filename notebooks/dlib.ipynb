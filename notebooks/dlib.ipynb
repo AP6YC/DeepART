{
 "cells": [
  {
   "cell_type": "markdown",
   "id": "f8a1d634",
   "metadata": {},
   "source": [
    "# DeepART Lib Dev Notebook"
   ]
  },
  {
   "cell_type": "code",
   "execution_count": 2,
   "id": "46519cd6",
   "metadata": {},
   "outputs": [],
   "source": [
    "# from importlib import reload\n",
    "import importlib as il\n",
    "import deepart\n",
    "# da = il.reload(da)"
   ]
  },
  {
   "cell_type": "code",
   "execution_count": 25,
   "id": "0639de9b",
   "metadata": {},
   "outputs": [],
   "source": [
    "# from deepart import *\n"
   ]
  },
  {
   "cell_type": "code",
   "execution_count": 3,
   "id": "8ba6277b",
   "metadata": {},
   "outputs": [
    {
     "name": "stdout",
     "output_type": "stream",
     "text": [
      "Help on package deepart:\n",
      "\n",
      "NAME\n",
      "    deepart - TODO\n",
      "\n",
      "PACKAGE CONTENTS\n",
      "\n",
      "\n",
      "CLASSES\n",
      "    abc.ABC(builtins.object)\n",
      "        LocalUpdate\n",
      "\n",
      "    class LocalUpdate(abc.ABC)\n",
      "     |  Method resolution order:\n",
      "     |      LocalUpdate\n",
      "     |      abc.ABC\n",
      "     |      builtins.object\n",
      "     |\n",
      "     |  Methods defined here:\n",
      "     |\n",
      "     |  __init__(self)\n",
      "     |      Initialize self.  See help(type(self)) for accurate signature.\n",
      "     |\n",
      "     |  update(self, x: torch.Tensor, w: torch.Tensor)\n",
      "     |\n",
      "     |  ----------------------------------------------------------------------\n",
      "     |  Data descriptors defined here:\n",
      "     |\n",
      "     |  __dict__\n",
      "     |      dictionary for instance variables\n",
      "     |\n",
      "     |  __weakref__\n",
      "     |      list of weak references to the object\n",
      "     |\n",
      "     |  ----------------------------------------------------------------------\n",
      "     |  Data and other attributes defined here:\n",
      "     |\n",
      "     |  __abstractmethods__ = frozenset({'update'})\n",
      "\n",
      "DATA\n",
      "    __all__ = ['LocalUpdate']\n",
      "\n",
      "VERSION\n",
      "    1.0.0\n",
      "\n",
      "FILE\n",
      "    c:\\users\\sasha\\repos\\github\\deepart\\src\\deepart\\src\\deepart\\__init__.py\n",
      "\n",
      "\n"
     ]
    },
    {
     "data": {
      "text/plain": [
       "['ABC',\n",
       " 'Any',\n",
       " 'DataLoader',\n",
       " 'Dict',\n",
       " 'F',\n",
       " 'Hebb',\n",
       " 'List',\n",
       " 'LocalUpdate',\n",
       " 'SimpleHebbNet',\n",
       " 'TSNE',\n",
       " 'Tuple',\n",
       " '__all__',\n",
       " '__builtins__',\n",
       " '__cached__',\n",
       " '__doc__',\n",
       " '__file__',\n",
       " '__loader__',\n",
       " '__name__',\n",
       " '__package__',\n",
       " '__path__',\n",
       " '__spec__',\n",
       " '__version__',\n",
       " 'abstractmethod',\n",
       " 'datasets',\n",
       " 'get_data',\n",
       " 'get_model',\n",
       " 'logging',\n",
       " 'nn',\n",
       " 'plt',\n",
       " 'ticker',\n",
       " 'torch',\n",
       " 'tqdm',\n",
       " 'transforms']"
      ]
     },
     "execution_count": 3,
     "metadata": {},
     "output_type": "execute_result"
    }
   ],
   "source": [
    "# from deepart import get_data\n",
    "# print(da.__doc__)\n",
    "# deepart.__version__\n",
    "help(deepart)\n",
    "dir(deepart)\n",
    "# deepart.__file__"
   ]
  },
  {
   "cell_type": "code",
   "execution_count": 5,
   "id": "2a6174e1",
   "metadata": {},
   "outputs": [
    {
     "name": "stderr",
     "output_type": "stream",
     "text": [
      "100%|██████████| 6.58M/6.58M [00:02<00:00, 2.29MB/s]\n",
      "100%|██████████| 1.83M/1.83M [00:01<00:00, 1.12MB/s]\n"
     ]
    }
   ],
   "source": [
    "train, test = deepart.get_data()\n",
    "model, updater = deepart.get_data()"
   ]
  },
  {
   "cell_type": "code",
   "execution_count": null,
   "id": "a75bb7dc",
   "metadata": {},
   "outputs": [
    {
     "ename": "AttributeError",
     "evalue": "module 'importlib' has no attribute 'reimport'",
     "output_type": "error",
     "traceback": [
      "\u001b[31m---------------------------------------------------------------------------\u001b[39m",
      "\u001b[31mAttributeError\u001b[39m                            Traceback (most recent call last)",
      "\u001b[36mCell\u001b[39m\u001b[36m \u001b[39m\u001b[32mIn[10]\u001b[39m\u001b[32m, line 1\u001b[39m\n\u001b[32m----> \u001b[39m\u001b[32m1\u001b[39m \u001b[43mil\u001b[49m\u001b[43m.\u001b[49m\u001b[43mreimport\u001b[49m(deepart)\n\u001b[32m      2\u001b[39m device = deepart.get_device()\n\u001b[32m      3\u001b[39m deepart.get_model()\n",
      "\u001b[31mAttributeError\u001b[39m: module 'importlib' has no attribute 'reimport'"
     ]
    }
   ],
   "source": [
    "il.reload(deepart)\n",
    "device = deepart.get_device()\n",
    "deepart.get_model()\n",
    "\n",
    "# GPU = False\n",
    "GPU = True\n",
    "\n",
    "if GPU:\n",
    "    model = model.to(device)\n",
    "\n",
    "# self.device = torch.accelerator.current_accelerator().type if torch.accelerator.is_available() else \"cpu\"\n"
   ]
  }
 ],
 "metadata": {
  "kernelspec": {
   "display_name": "Python 3",
   "language": "python",
   "name": "python3"
  },
  "language_info": {
   "codemirror_mode": {
    "name": "ipython",
    "version": 3
   },
   "file_extension": ".py",
   "mimetype": "text/x-python",
   "name": "python",
   "nbconvert_exporter": "python",
   "pygments_lexer": "ipython3",
   "version": "3.12.10"
  }
 },
 "nbformat": 4,
 "nbformat_minor": 5
}
