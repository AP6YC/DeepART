{
 "cells": [
  {
   "cell_type": "markdown",
   "id": "f8a1d634",
   "metadata": {},
   "source": [
    "# DeepART Lib Dev Notebook"
   ]
  },
  {
   "cell_type": "code",
   "execution_count": 1,
   "id": "46519cd6",
   "metadata": {},
   "outputs": [
    {
     "name": "stdout",
     "output_type": "stream",
     "text": [
      "Help on package deepart:\n",
      "\n",
      "NAME\n",
      "    deepart - TODO\n",
      "\n",
      "PACKAGE CONTENTS\n",
      "    data (package)\n",
      "    models (package)\n",
      "    optimizers (package)\n",
      "    utils (package)\n",
      "\n",
      "FUNCTIONS\n",
      "    get_model()\n",
      "\n",
      "DATA\n",
      "    Dict = typing.Dict\n",
      "        A generic version of dict.\n",
      "\n",
      "    List = typing.List\n",
      "        A generic version of list.\n",
      "\n",
      "    Tuple = typing.Tuple\n",
      "        Deprecated alias to builtins.tuple.\n",
      "\n",
      "        Tuple[X, Y] is the cross-product type of X and Y.\n",
      "\n",
      "        Example: Tuple[T1, T2] is a tuple of two elements corresponding\n",
      "        to type variables T1 and T2.  Tuple[int, float, str] is a tuple\n",
      "        of an int, a float and a string.\n",
      "\n",
      "        To specify a variable-length tuple of homogeneous type, use Tuple[T, ...].\n",
      "\n",
      "VERSION\n",
      "    1.0.0\n",
      "\n",
      "FILE\n",
      "    c:\\users\\sasha\\repos\\github\\deepart\\src\\deepart\\src\\deepart\\__init__.py\n",
      "\n",
      "\n"
     ]
    },
    {
     "data": {
      "text/plain": [
       "['Any',\n",
       " 'Dict',\n",
       " 'F',\n",
       " 'Hebb',\n",
       " 'List',\n",
       " 'LocalUpdate',\n",
       " 'SimpleHebbNet',\n",
       " 'TSNE',\n",
       " 'Tuple',\n",
       " '__builtins__',\n",
       " '__cached__',\n",
       " '__doc__',\n",
       " '__file__',\n",
       " '__loader__',\n",
       " '__name__',\n",
       " '__package__',\n",
       " '__path__',\n",
       " '__spec__',\n",
       " '__version__',\n",
       " 'data',\n",
       " 'get_data',\n",
       " 'get_device',\n",
       " 'get_model',\n",
       " 'models',\n",
       " 'optimizers',\n",
       " 'plt',\n",
       " 'ticker',\n",
       " 'tqdm',\n",
       " 'utils']"
      ]
     },
     "execution_count": 1,
     "metadata": {},
     "output_type": "execute_result"
    }
   ],
   "source": [
    "import importlib as il\n",
    "import deepart as da\n",
    "da = il.reload(da)\n",
    "\n",
    "help(da)\n",
    "dir(da)"
   ]
  },
  {
   "cell_type": "code",
   "execution_count": 2,
   "id": "2a6174e1",
   "metadata": {},
   "outputs": [],
   "source": [
    "train, test = da.get_data()\n",
    "model, updater = da.get_model()"
   ]
  },
  {
   "cell_type": "code",
   "execution_count": 3,
   "id": "a75bb7dc",
   "metadata": {},
   "outputs": [],
   "source": [
    "il.reload(da)\n",
    "device = da.get_device()\n",
    "\n",
    "# GPU = False\n",
    "GPU = True\n",
    "\n",
    "if GPU:\n",
    "    model = model.to(device)"
   ]
  },
  {
   "cell_type": "code",
   "execution_count": 4,
   "id": "aee130ad",
   "metadata": {},
   "outputs": [
    {
     "data": {
      "text/plain": [
       "SimpleHebbNet(\n",
       "  (fc): Sequential(\n",
       "    (0): Linear(in_features=256, out_features=100, bias=False)\n",
       "    (1): Tanh()\n",
       "    (2): Linear(in_features=100, out_features=50, bias=False)\n",
       "    (3): Tanh()\n",
       "    (4): Linear(in_features=50, out_features=10, bias=False)\n",
       "  )\n",
       ")"
      ]
     },
     "execution_count": 4,
     "metadata": {},
     "output_type": "execute_result"
    }
   ],
   "source": [
    "model"
   ]
  },
  {
   "cell_type": "code",
   "execution_count": null,
   "id": "8f711cb4",
   "metadata": {},
   "outputs": [],
   "source": []
  }
 ],
 "metadata": {
  "kernelspec": {
   "display_name": "Python 3",
   "language": "python",
   "name": "python3"
  },
  "language_info": {
   "codemirror_mode": {
    "name": "ipython",
    "version": 3
   },
   "file_extension": ".py",
   "mimetype": "text/x-python",
   "name": "python",
   "nbconvert_exporter": "python",
   "pygments_lexer": "ipython3",
   "version": "3.12.10"
  }
 },
 "nbformat": 4,
 "nbformat_minor": 5
}
