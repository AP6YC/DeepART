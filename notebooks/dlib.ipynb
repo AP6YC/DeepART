{
 "cells": [
  {
   "cell_type": "markdown",
   "id": "f8a1d634",
   "metadata": {},
   "source": [
    "# DeepART Lib Dev Notebook"
   ]
  },
  {
   "cell_type": "code",
   "execution_count": 24,
   "id": "46519cd6",
   "metadata": {},
   "outputs": [],
   "source": [
    "# from importlib import reload\n",
    "import importlib as il\n",
    "import deepart\n",
    "# da = il.reload(da)"
   ]
  },
  {
   "cell_type": "code",
   "execution_count": 25,
   "id": "0639de9b",
   "metadata": {},
   "outputs": [],
   "source": [
    "# from deepart import *\n"
   ]
  },
  {
   "cell_type": "code",
   "execution_count": 26,
   "id": "8ba6277b",
   "metadata": {},
   "outputs": [
    {
     "name": "stdout",
     "output_type": "stream",
     "text": [
      "Help on package deepart:\n",
      "\n",
      "NAME\n",
      "    deepart\n",
      "\n",
      "PACKAGE CONTENTS\n",
      "\n",
      "\n",
      "FILE\n",
      "    (built-in)\n",
      "\n",
      "\n"
     ]
    },
    {
     "data": {
      "text/plain": [
       "['__doc__',\n",
       " '__file__',\n",
       " '__loader__',\n",
       " '__name__',\n",
       " '__package__',\n",
       " '__path__',\n",
       " '__spec__']"
      ]
     },
     "execution_count": 26,
     "metadata": {},
     "output_type": "execute_result"
    }
   ],
   "source": [
    "# from deepart import get_data\n",
    "# print(da.__doc__)\n",
    "# deepart.__version__\n",
    "help(deepart)\n",
    "dir(deepart)\n",
    "# deepart.__file__"
   ]
  },
  {
   "cell_type": "code",
   "execution_count": 22,
   "id": "2a6174e1",
   "metadata": {},
   "outputs": [
    {
     "ename": "AttributeError",
     "evalue": "module 'deepart' has no attribute 'deepart'",
     "output_type": "error",
     "traceback": [
      "\u001b[0;31m---------------------------------------------------------------------------\u001b[0m",
      "\u001b[0;31mAttributeError\u001b[0m                            Traceback (most recent call last)",
      "Cell \u001b[0;32mIn[22], line 1\u001b[0m\n\u001b[0;32m----> 1\u001b[0m train, test \u001b[38;5;241m=\u001b[39m \u001b[43mdeepart\u001b[49m\u001b[38;5;241;43m.\u001b[39;49m\u001b[43mdeepart\u001b[49m\u001b[38;5;241m.\u001b[39mget_data()\n\u001b[1;32m      2\u001b[0m model, updater \u001b[38;5;241m=\u001b[39m deepart\u001b[38;5;241m.\u001b[39mget_data()\n",
      "\u001b[0;31mAttributeError\u001b[0m: module 'deepart' has no attribute 'deepart'"
     ]
    }
   ],
   "source": [
    "train, test = deepart.deepart.get_data()\n",
    "model, updater = deepart.get_data()"
   ]
  },
  {
   "cell_type": "code",
   "execution_count": null,
   "id": "a75bb7dc",
   "metadata": {},
   "outputs": [],
   "source": []
  }
 ],
 "metadata": {
  "kernelspec": {
   "display_name": "deepart",
   "language": "python",
   "name": "python3"
  },
  "language_info": {
   "codemirror_mode": {
    "name": "ipython",
    "version": 3
   },
   "file_extension": ".py",
   "mimetype": "text/x-python",
   "name": "python",
   "nbconvert_exporter": "python",
   "pygments_lexer": "ipython3",
   "version": "3.11.11"
  }
 },
 "nbformat": 4,
 "nbformat_minor": 5
}
